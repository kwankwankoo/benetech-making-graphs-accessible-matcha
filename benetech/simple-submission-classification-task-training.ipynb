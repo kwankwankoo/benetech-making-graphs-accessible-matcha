{
 "cells": [
  {
   "cell_type": "markdown",
   "id": "5e538138",
   "metadata": {
    "papermill": {
     "duration": 0.005059,
     "end_time": "2023-04-09T18:48:13.744661",
     "exception": false,
     "start_time": "2023-04-09T18:48:13.739602",
     "status": "completed"
    },
    "tags": []
   },
   "source": [
    "# 1. Define Some Libraries"
   ]
  },
  {
   "cell_type": "code",
   "execution_count": 1,
   "id": "21e9f036",
   "metadata": {
    "execution": {
     "iopub.execute_input": "2023-04-09T18:48:13.754673Z",
     "iopub.status.busy": "2023-04-09T18:48:13.753807Z",
     "iopub.status.idle": "2023-04-09T18:48:16.262658Z",
     "shell.execute_reply": "2023-04-09T18:48:16.261616Z"
    },
    "papermill": {
     "duration": 2.516731,
     "end_time": "2023-04-09T18:48:16.265566",
     "exception": false,
     "start_time": "2023-04-09T18:48:13.748835",
     "status": "completed"
    },
    "tags": []
   },
   "outputs": [],
   "source": [
    "import torch\n",
    "import torchvision\n",
    "import torch.utils.data\n",
    "from torchvision import transforms\n",
    "import torch.nn as nn\n",
    "import torch.nn.functional as F\n",
    "import torch.optim as optim\n",
    "from torch.optim import lr_scheduler"
   ]
  },
  {
   "cell_type": "code",
   "execution_count": 2,
   "id": "921cd486",
   "metadata": {
    "execution": {
     "iopub.execute_input": "2023-04-09T18:48:16.276749Z",
     "iopub.status.busy": "2023-04-09T18:48:16.275115Z",
     "iopub.status.idle": "2023-04-09T18:48:17.179393Z",
     "shell.execute_reply": "2023-04-09T18:48:17.178361Z"
    },
    "papermill": {
     "duration": 0.912201,
     "end_time": "2023-04-09T18:48:17.182108",
     "exception": false,
     "start_time": "2023-04-09T18:48:16.269907",
     "status": "completed"
    },
    "tags": []
   },
   "outputs": [],
   "source": [
    "from sklearn.preprocessing import OneHotEncoder, LabelEncoder\n",
    "from sklearn.model_selection import StratifiedKFold\n",
    "from sklearn.metrics import roc_auc_score\n",
    "import numpy as np\n",
    "import math, random\n",
    "import pandas as pd\n",
    "import pathlib\n",
    "import glob\n",
    "import cv2 as cv\n",
    "import numpy as np\n",
    "from PIL import Image\n",
    "import matplotlib.pyplot as plt\n",
    "import random\n",
    "from sklearn.model_selection import train_test_split\n",
    "import copy\n",
    "import time \n",
    "from collections import defaultdict\n",
    "from tqdm import tqdm\n",
    "import os\n",
    "import json"
   ]
  },
  {
   "cell_type": "code",
   "execution_count": 3,
   "id": "b4f3c7da",
   "metadata": {
    "execution": {
     "iopub.execute_input": "2023-04-09T18:48:17.191859Z",
     "iopub.status.busy": "2023-04-09T18:48:17.191562Z",
     "iopub.status.idle": "2023-04-09T18:48:17.199466Z",
     "shell.execute_reply": "2023-04-09T18:48:17.198593Z"
    },
    "papermill": {
     "duration": 0.015264,
     "end_time": "2023-04-09T18:48:17.201653",
     "exception": false,
     "start_time": "2023-04-09T18:48:17.186389",
     "status": "completed"
    },
    "tags": []
   },
   "outputs": [],
   "source": [
    "def seed_everything(seed):\n",
    "    random.seed(seed)\n",
    "    os.environ['PYTHONHASHSEED'] = str(seed)\n",
    "    np.random.seed(seed)\n",
    "    torch.manual_seed(seed)\n",
    "    torch.cuda.manual_seed(seed)\n",
    "    torch.backends.cudnn.deterministic = True\n",
    "\n",
    "seed = 1999\n",
    "seed_everything(seed)"
   ]
  },
  {
   "cell_type": "code",
   "execution_count": 4,
   "id": "d818e0b1",
   "metadata": {
    "execution": {
     "iopub.execute_input": "2023-04-09T18:48:17.211281Z",
     "iopub.status.busy": "2023-04-09T18:48:17.210660Z",
     "iopub.status.idle": "2023-04-09T18:48:17.216215Z",
     "shell.execute_reply": "2023-04-09T18:48:17.215316Z"
    },
    "papermill": {
     "duration": 0.012537,
     "end_time": "2023-04-09T18:48:17.218264",
     "exception": false,
     "start_time": "2023-04-09T18:48:17.205727",
     "status": "completed"
    },
    "tags": []
   },
   "outputs": [],
   "source": [
    "class CFG:\n",
    "    isOneHot = False\n",
    "    label_map = {'dot': 0, 'horizontal_bar' : 1, 'vertical_bar': 2, 'line': 3, 'scatter': 4}\n",
    "    num_classes = 5\n",
    "    batchSize = 32\n",
    "    fold_train = 0"
   ]
  },
  {
   "cell_type": "markdown",
   "id": "90d91905",
   "metadata": {
    "papermill": {
     "duration": 0.003823,
     "end_time": "2023-04-09T18:48:17.226053",
     "exception": false,
     "start_time": "2023-04-09T18:48:17.222230",
     "status": "completed"
    },
    "tags": []
   },
   "source": [
    "# 2. Meta Data"
   ]
  },
  {
   "cell_type": "code",
   "execution_count": 15,
   "id": "62d1a368",
   "metadata": {
    "execution": {
     "iopub.execute_input": "2023-04-09T18:48:17.235361Z",
     "iopub.status.busy": "2023-04-09T18:48:17.234799Z",
     "iopub.status.idle": "2023-04-09T18:48:17.460035Z",
     "shell.execute_reply": "2023-04-09T18:48:17.458938Z"
    },
    "papermill": {
     "duration": 0.232177,
     "end_time": "2023-04-09T18:48:17.462259",
     "exception": false,
     "start_time": "2023-04-09T18:48:17.230082",
     "status": "completed"
    },
    "tags": []
   },
   "outputs": [
    {
     "data": {
      "text/html": [
       "<div>\n",
       "<style scoped>\n",
       "    .dataframe tbody tr th:only-of-type {\n",
       "        vertical-align: middle;\n",
       "    }\n",
       "\n",
       "    .dataframe tbody tr th {\n",
       "        vertical-align: top;\n",
       "    }\n",
       "\n",
       "    .dataframe thead th {\n",
       "        text-align: right;\n",
       "    }\n",
       "</style>\n",
       "<table border=\"1\" class=\"dataframe\">\n",
       "  <thead>\n",
       "    <tr style=\"text-align: right;\">\n",
       "      <th></th>\n",
       "      <th>filename</th>\n",
       "      <th>chart_type</th>\n",
       "    </tr>\n",
       "  </thead>\n",
       "  <tbody>\n",
       "    <tr>\n",
       "      <th>0</th>\n",
       "      <td>/kaggle/input/benetech-making-graphs-accessibl...</td>\n",
       "      <td>line</td>\n",
       "    </tr>\n",
       "    <tr>\n",
       "      <th>1</th>\n",
       "      <td>/kaggle/input/benetech-making-graphs-accessibl...</td>\n",
       "      <td>line</td>\n",
       "    </tr>\n",
       "    <tr>\n",
       "      <th>2</th>\n",
       "      <td>/kaggle/input/benetech-making-graphs-accessibl...</td>\n",
       "      <td>line</td>\n",
       "    </tr>\n",
       "    <tr>\n",
       "      <th>3</th>\n",
       "      <td>/kaggle/input/benetech-making-graphs-accessibl...</td>\n",
       "      <td>line</td>\n",
       "    </tr>\n",
       "    <tr>\n",
       "      <th>4</th>\n",
       "      <td>/kaggle/input/benetech-making-graphs-accessibl...</td>\n",
       "      <td>dot</td>\n",
       "    </tr>\n",
       "    <tr>\n",
       "      <th>...</th>\n",
       "      <td>...</td>\n",
       "      <td>...</td>\n",
       "    </tr>\n",
       "    <tr>\n",
       "      <th>60573</th>\n",
       "      <td>/kaggle/input/benetech-making-graphs-accessibl...</td>\n",
       "      <td>line</td>\n",
       "    </tr>\n",
       "    <tr>\n",
       "      <th>60574</th>\n",
       "      <td>/kaggle/input/benetech-making-graphs-accessibl...</td>\n",
       "      <td>line</td>\n",
       "    </tr>\n",
       "    <tr>\n",
       "      <th>60575</th>\n",
       "      <td>/kaggle/input/benetech-making-graphs-accessibl...</td>\n",
       "      <td>line</td>\n",
       "    </tr>\n",
       "    <tr>\n",
       "      <th>60576</th>\n",
       "      <td>/kaggle/input/benetech-making-graphs-accessibl...</td>\n",
       "      <td>line</td>\n",
       "    </tr>\n",
       "    <tr>\n",
       "      <th>60577</th>\n",
       "      <td>/kaggle/input/benetech-making-graphs-accessibl...</td>\n",
       "      <td>dot</td>\n",
       "    </tr>\n",
       "  </tbody>\n",
       "</table>\n",
       "<p>60578 rows × 2 columns</p>\n",
       "</div>"
      ],
      "text/plain": [
       "                                                filename chart_type\n",
       "0      /kaggle/input/benetech-making-graphs-accessibl...       line\n",
       "1      /kaggle/input/benetech-making-graphs-accessibl...       line\n",
       "2      /kaggle/input/benetech-making-graphs-accessibl...       line\n",
       "3      /kaggle/input/benetech-making-graphs-accessibl...       line\n",
       "4      /kaggle/input/benetech-making-graphs-accessibl...        dot\n",
       "...                                                  ...        ...\n",
       "60573  /kaggle/input/benetech-making-graphs-accessibl...       line\n",
       "60574  /kaggle/input/benetech-making-graphs-accessibl...       line\n",
       "60575  /kaggle/input/benetech-making-graphs-accessibl...       line\n",
       "60576  /kaggle/input/benetech-making-graphs-accessibl...       line\n",
       "60577  /kaggle/input/benetech-making-graphs-accessibl...        dot\n",
       "\n",
       "[60578 rows x 2 columns]"
      ]
     },
     "execution_count": 15,
     "metadata": {},
     "output_type": "execute_result"
    }
   ],
   "source": [
    "df = pd.read_csv('./df_train.csv')\n",
    "df"
   ]
  },
  {
   "cell_type": "code",
   "execution_count": 6,
   "id": "a14b5444",
   "metadata": {
    "execution": {
     "iopub.execute_input": "2023-04-09T18:48:17.472982Z",
     "iopub.status.busy": "2023-04-09T18:48:17.472086Z",
     "iopub.status.idle": "2023-04-09T18:48:17.487746Z",
     "shell.execute_reply": "2023-04-09T18:48:17.486839Z"
    },
    "papermill": {
     "duration": 0.023271,
     "end_time": "2023-04-09T18:48:17.489936",
     "exception": false,
     "start_time": "2023-04-09T18:48:17.466665",
     "status": "completed"
    },
    "tags": []
   },
   "outputs": [
    {
     "data": {
      "text/plain": [
       "line              24942\n",
       "vertical_bar      19189\n",
       "scatter           11243\n",
       "dot                5131\n",
       "horizontal_bar       73\n",
       "Name: chart_type, dtype: int64"
      ]
     },
     "execution_count": 6,
     "metadata": {},
     "output_type": "execute_result"
    }
   ],
   "source": [
    "df.chart_type.value_counts()"
   ]
  },
  {
   "cell_type": "code",
   "execution_count": 7,
   "id": "2a0f9d39",
   "metadata": {
    "execution": {
     "iopub.execute_input": "2023-04-09T18:48:17.500019Z",
     "iopub.status.busy": "2023-04-09T18:48:17.499706Z",
     "iopub.status.idle": "2023-04-09T18:48:17.521897Z",
     "shell.execute_reply": "2023-04-09T18:48:17.520979Z"
    },
    "papermill": {
     "duration": 0.029607,
     "end_time": "2023-04-09T18:48:17.523982",
     "exception": false,
     "start_time": "2023-04-09T18:48:17.494375",
     "status": "completed"
    },
    "tags": []
   },
   "outputs": [
    {
     "data": {
      "text/html": [
       "<div>\n",
       "<style scoped>\n",
       "    .dataframe tbody tr th:only-of-type {\n",
       "        vertical-align: middle;\n",
       "    }\n",
       "\n",
       "    .dataframe tbody tr th {\n",
       "        vertical-align: top;\n",
       "    }\n",
       "\n",
       "    .dataframe thead th {\n",
       "        text-align: right;\n",
       "    }\n",
       "</style>\n",
       "<table border=\"1\" class=\"dataframe\">\n",
       "  <thead>\n",
       "    <tr style=\"text-align: right;\">\n",
       "      <th></th>\n",
       "      <th>filename</th>\n",
       "      <th>chart_type</th>\n",
       "    </tr>\n",
       "  </thead>\n",
       "  <tbody>\n",
       "    <tr>\n",
       "      <th>0</th>\n",
       "      <td>./test/images/00dcf883a459.jpg</td>\n",
       "      <td>line</td>\n",
       "    </tr>\n",
       "    <tr>\n",
       "      <th>1</th>\n",
       "      <td>./test/images/007a18eb4e09.jpg</td>\n",
       "      <td>line</td>\n",
       "    </tr>\n",
       "    <tr>\n",
       "      <th>2</th>\n",
       "      <td>./test/images/000b92c3b098.jpg</td>\n",
       "      <td>line</td>\n",
       "    </tr>\n",
       "    <tr>\n",
       "      <th>3</th>\n",
       "      <td>./test/images/00f5404753cf.jpg</td>\n",
       "      <td>line</td>\n",
       "    </tr>\n",
       "    <tr>\n",
       "      <th>4</th>\n",
       "      <td>./test/images/01b45b831589.jpg</td>\n",
       "      <td>line</td>\n",
       "    </tr>\n",
       "  </tbody>\n",
       "</table>\n",
       "</div>"
      ],
      "text/plain": [
       "                         filename chart_type\n",
       "0  ./test/images/00dcf883a459.jpg       line\n",
       "1  ./test/images/007a18eb4e09.jpg       line\n",
       "2  ./test/images/000b92c3b098.jpg       line\n",
       "3  ./test/images/00f5404753cf.jpg       line\n",
       "4  ./test/images/01b45b831589.jpg       line"
      ]
     },
     "execution_count": 7,
     "metadata": {},
     "output_type": "execute_result"
    }
   ],
   "source": [
    "files_and_labels = {}\n",
    "for dirname, _, filenames in os.walk('./test/images'):\n",
    "    for filename in filenames:\n",
    "        files_and_labels[os.path.join(dirname, filename)] = 'line'\n",
    "df_test = pd.DataFrame(files_and_labels, index = [0]).T.reset_index().rename(columns = {'index':'filename', 0 :'chart_type'})\n",
    "df_test"
   ]
  },
  {
   "cell_type": "markdown",
   "id": "74b77327",
   "metadata": {
    "papermill": {
     "duration": 0.004295,
     "end_time": "2023-04-09T18:48:17.532811",
     "exception": false,
     "start_time": "2023-04-09T18:48:17.528516",
     "status": "completed"
    },
    "tags": []
   },
   "source": [
    "# 3. Define Dataset "
   ]
  },
  {
   "cell_type": "code",
   "execution_count": 8,
   "id": "dfa12f23",
   "metadata": {
    "execution": {
     "iopub.execute_input": "2023-04-09T18:48:17.543309Z",
     "iopub.status.busy": "2023-04-09T18:48:17.542484Z",
     "iopub.status.idle": "2023-04-09T18:48:17.548175Z",
     "shell.execute_reply": "2023-04-09T18:48:17.547220Z"
    },
    "papermill": {
     "duration": 0.012982,
     "end_time": "2023-04-09T18:48:17.550186",
     "exception": false,
     "start_time": "2023-04-09T18:48:17.537204",
     "status": "completed"
    },
    "tags": []
   },
   "outputs": [],
   "source": [
    "transforms_train = transforms.Compose(\n",
    "    [transforms.ToTensor(),\n",
    "     transforms.Normalize((0.5, 0.5, 0.5), (0.5, 0.5, 0.5))])\n",
    "transforms_test = transforms.Compose(\n",
    "    [transforms.ToTensor(),\n",
    "     transforms.Normalize((0.5, 0.5, 0.5), (0.5, 0.5, 0.5))])"
   ]
  },
  {
   "cell_type": "code",
   "execution_count": 9,
   "id": "6cf141bd",
   "metadata": {
    "execution": {
     "iopub.execute_input": "2023-04-09T18:48:17.560103Z",
     "iopub.status.busy": "2023-04-09T18:48:17.559830Z",
     "iopub.status.idle": "2023-04-09T18:48:17.566898Z",
     "shell.execute_reply": "2023-04-09T18:48:17.565849Z"
    },
    "papermill": {
     "duration": 0.014695,
     "end_time": "2023-04-09T18:48:17.569275",
     "exception": false,
     "start_time": "2023-04-09T18:48:17.554580",
     "status": "completed"
    },
    "tags": []
   },
   "outputs": [],
   "source": [
    "class ImageCharts(torch.utils.data.Dataset):\n",
    "    def __init__(self, df, transforms  = None): ### phase = train/test\n",
    "        self.df = df\n",
    "        self.transforms = transforms\n",
    "\n",
    "    def __len__(self):\n",
    "        return len(self.df)\n",
    "\n",
    "    def __getitem__(self,idx):\n",
    "        name_img = self.df.iloc[idx]['filename']\n",
    "        img = cv.imread(name_img)\n",
    "        img = cv.cvtColor(img,cv.COLOR_BGR2RGB)\n",
    "        img = cv.resize(img,(500,300))\n",
    "        img = img.astype(np.float32)/255.0\n",
    "\n",
    "        label = np.array(self.df.iloc[idx]['label'])\n",
    "\n",
    "        if(self.transforms is not None):\n",
    "            img = self.transforms(img)\n",
    "        return img, label"
   ]
  },
  {
   "cell_type": "code",
   "execution_count": 10,
   "id": "69ba01e0",
   "metadata": {
    "execution": {
     "iopub.execute_input": "2023-04-09T18:48:17.579262Z",
     "iopub.status.busy": "2023-04-09T18:48:17.578998Z",
     "iopub.status.idle": "2023-04-09T18:48:17.672170Z",
     "shell.execute_reply": "2023-04-09T18:48:17.671088Z"
    },
    "papermill": {
     "duration": 0.100941,
     "end_time": "2023-04-09T18:48:17.674545",
     "exception": false,
     "start_time": "2023-04-09T18:48:17.573604",
     "status": "completed"
    },
    "tags": []
   },
   "outputs": [
    {
     "data": {
      "text/html": [
       "<div>\n",
       "<style scoped>\n",
       "    .dataframe tbody tr th:only-of-type {\n",
       "        vertical-align: middle;\n",
       "    }\n",
       "\n",
       "    .dataframe tbody tr th {\n",
       "        vertical-align: top;\n",
       "    }\n",
       "\n",
       "    .dataframe thead th {\n",
       "        text-align: right;\n",
       "    }\n",
       "</style>\n",
       "<table border=\"1\" class=\"dataframe\">\n",
       "  <thead>\n",
       "    <tr style=\"text-align: right;\">\n",
       "      <th></th>\n",
       "      <th>filename</th>\n",
       "      <th>chart_type</th>\n",
       "      <th>fold</th>\n",
       "      <th>label</th>\n",
       "    </tr>\n",
       "  </thead>\n",
       "  <tbody>\n",
       "    <tr>\n",
       "      <th>0</th>\n",
       "      <td>/kaggle/input/benetech-making-graphs-accessibl...</td>\n",
       "      <td>line</td>\n",
       "      <td>4</td>\n",
       "      <td>3</td>\n",
       "    </tr>\n",
       "    <tr>\n",
       "      <th>1</th>\n",
       "      <td>/kaggle/input/benetech-making-graphs-accessibl...</td>\n",
       "      <td>line</td>\n",
       "      <td>3</td>\n",
       "      <td>3</td>\n",
       "    </tr>\n",
       "  </tbody>\n",
       "</table>\n",
       "</div>"
      ],
      "text/plain": [
       "                                            filename chart_type  fold  label\n",
       "0  /kaggle/input/benetech-making-graphs-accessibl...       line     4      3\n",
       "1  /kaggle/input/benetech-making-graphs-accessibl...       line     3      3"
      ]
     },
     "execution_count": 10,
     "metadata": {},
     "output_type": "execute_result"
    }
   ],
   "source": [
    "def cv_split(Xtrain, ytrain, n_folds, seed):\n",
    "    kfold = StratifiedKFold(n_splits = n_folds, shuffle = True, random_state = seed)\n",
    "    for num, (train_index, val_index) in enumerate(kfold.split(Xtrain, ytrain)):\n",
    "        Xtrain.loc[val_index, 'fold'] = int(num)\n",
    "    Xtrain['fold'] = Xtrain['fold'].astype(int)\n",
    "    return Xtrain\n",
    "\n",
    "meta_df = cv_split(df,df['chart_type'], 5, 42)\n",
    "meta_df['label'] = meta_df['chart_type'].apply(lambda x: CFG.label_map[x])\n",
    "meta_df.head(2)"
   ]
  },
  {
   "cell_type": "code",
   "execution_count": 11,
   "id": "5fc5eb92",
   "metadata": {
    "execution": {
     "iopub.execute_input": "2023-04-09T18:48:17.684863Z",
     "iopub.status.busy": "2023-04-09T18:48:17.684599Z",
     "iopub.status.idle": "2023-04-09T18:48:17.702473Z",
     "shell.execute_reply": "2023-04-09T18:48:17.701587Z"
    },
    "papermill": {
     "duration": 0.025368,
     "end_time": "2023-04-09T18:48:17.704529",
     "exception": false,
     "start_time": "2023-04-09T18:48:17.679161",
     "status": "completed"
    },
    "tags": []
   },
   "outputs": [],
   "source": [
    "train_ds = ImageCharts(meta_df[meta_df.fold != CFG.fold_train].reset_index(), transforms=transforms_train)\n",
    "val_ds = ImageCharts(meta_df[meta_df.fold == CFG.fold_train].reset_index(), transforms=transforms_train)\n",
    "train_dl = torch.utils.data.DataLoader(train_ds, batch_size= CFG.batchSize, shuffle=True)\n",
    "val_dl = torch.utils.data.DataLoader(val_ds, batch_size= CFG.batchSize, shuffle=True)"
   ]
  },
  {
   "cell_type": "code",
   "execution_count": 12,
   "id": "ac0c4022",
   "metadata": {
    "execution": {
     "iopub.execute_input": "2023-04-09T18:48:17.715097Z",
     "iopub.status.busy": "2023-04-09T18:48:17.714572Z",
     "iopub.status.idle": "2023-04-09T18:48:18.556748Z",
     "shell.execute_reply": "2023-04-09T18:48:18.555777Z"
    },
    "papermill": {
     "duration": 0.851075,
     "end_time": "2023-04-09T18:48:18.560234",
     "exception": false,
     "start_time": "2023-04-09T18:48:17.709159",
     "status": "completed"
    },
    "tags": []
   },
   "outputs": [
    {
     "name": "stderr",
     "output_type": "stream",
     "text": [
      "[ WARN:0@354.625] global loadsave.cpp:244 findDecoder imread_('/kaggle/input/benetech-making-graphs-accessible/train/images/3959732c290a.jpg'): can't open/read file: check file path/integrity\n"
     ]
    },
    {
     "ename": "error",
     "evalue": "OpenCV(4.7.0) /io/opencv/modules/imgproc/src/color.cpp:182: error: (-215:Assertion failed) !_src.empty() in function 'cvtColor'\n",
     "output_type": "error",
     "traceback": [
      "\u001b[0;31m---------------------------------------------------------------------------\u001b[0m",
      "\u001b[0;31merror\u001b[0m                                     Traceback (most recent call last)",
      "\u001b[0;32m/tmp/ipykernel_403458/3658912565.py\u001b[0m in \u001b[0;36m<module>\u001b[0;34m\u001b[0m\n\u001b[0;32m----> 1\u001b[0;31m \u001b[0ma\u001b[0m\u001b[0;34m,\u001b[0m\u001b[0mb\u001b[0m \u001b[0;34m=\u001b[0m \u001b[0mnext\u001b[0m\u001b[0;34m(\u001b[0m\u001b[0miter\u001b[0m\u001b[0;34m(\u001b[0m\u001b[0mtrain_dl\u001b[0m\u001b[0;34m)\u001b[0m\u001b[0;34m)\u001b[0m\u001b[0;34m\u001b[0m\u001b[0;34m\u001b[0m\u001b[0m\n\u001b[0m\u001b[1;32m      2\u001b[0m \u001b[0mprint\u001b[0m\u001b[0;34m(\u001b[0m\u001b[0ma\u001b[0m\u001b[0;34m.\u001b[0m\u001b[0mshape\u001b[0m\u001b[0;34m)\u001b[0m\u001b[0;34m\u001b[0m\u001b[0;34m\u001b[0m\u001b[0m\n\u001b[1;32m      3\u001b[0m \u001b[0mprint\u001b[0m\u001b[0;34m(\u001b[0m\u001b[0mb\u001b[0m\u001b[0;34m.\u001b[0m\u001b[0mshape\u001b[0m\u001b[0;34m)\u001b[0m\u001b[0;34m\u001b[0m\u001b[0;34m\u001b[0m\u001b[0m\n\u001b[1;32m      4\u001b[0m \u001b[0mprint\u001b[0m\u001b[0;34m(\u001b[0m\u001b[0;34m'chart_type:'\u001b[0m\u001b[0;34m,\u001b[0m\u001b[0mlist\u001b[0m\u001b[0;34m(\u001b[0m\u001b[0mCFG\u001b[0m\u001b[0;34m.\u001b[0m\u001b[0mlabel_map\u001b[0m\u001b[0;34m)\u001b[0m\u001b[0;34m[\u001b[0m\u001b[0mb\u001b[0m\u001b[0;34m[\u001b[0m\u001b[0;36m0\u001b[0m\u001b[0;34m]\u001b[0m\u001b[0;34m.\u001b[0m\u001b[0mdetach\u001b[0m\u001b[0;34m(\u001b[0m\u001b[0;34m)\u001b[0m\u001b[0;34m.\u001b[0m\u001b[0mnumpy\u001b[0m\u001b[0;34m(\u001b[0m\u001b[0;34m)\u001b[0m\u001b[0;34m]\u001b[0m\u001b[0;34m)\u001b[0m\u001b[0;34m\u001b[0m\u001b[0;34m\u001b[0m\u001b[0m\n\u001b[1;32m      5\u001b[0m \u001b[0mplt\u001b[0m\u001b[0;34m.\u001b[0m\u001b[0mimshow\u001b[0m\u001b[0;34m(\u001b[0m\u001b[0ma\u001b[0m\u001b[0;34m[\u001b[0m\u001b[0;36m0\u001b[0m\u001b[0;34m]\u001b[0m\u001b[0;34m.\u001b[0m\u001b[0mpermute\u001b[0m\u001b[0;34m(\u001b[0m\u001b[0;36m1\u001b[0m\u001b[0;34m,\u001b[0m\u001b[0;36m2\u001b[0m\u001b[0;34m,\u001b[0m\u001b[0;36m0\u001b[0m\u001b[0;34m)\u001b[0m\u001b[0;34m)\u001b[0m\u001b[0;34m\u001b[0m\u001b[0;34m\u001b[0m\u001b[0m\n",
      "\u001b[0;32m~/anaconda3/envs/kaggle2/lib/python3.7/site-packages/torch/utils/data/dataloader.py\u001b[0m in \u001b[0;36m__next__\u001b[0;34m(self)\u001b[0m\n\u001b[1;32m    626\u001b[0m                 \u001b[0;31m# TODO(https://github.com/pytorch/pytorch/issues/76750)\u001b[0m\u001b[0;34m\u001b[0m\u001b[0;34m\u001b[0m\u001b[0;34m\u001b[0m\u001b[0m\n\u001b[1;32m    627\u001b[0m                 \u001b[0mself\u001b[0m\u001b[0;34m.\u001b[0m\u001b[0m_reset\u001b[0m\u001b[0;34m(\u001b[0m\u001b[0;34m)\u001b[0m  \u001b[0;31m# type: ignore[call-arg]\u001b[0m\u001b[0;34m\u001b[0m\u001b[0;34m\u001b[0m\u001b[0m\n\u001b[0;32m--> 628\u001b[0;31m             \u001b[0mdata\u001b[0m \u001b[0;34m=\u001b[0m \u001b[0mself\u001b[0m\u001b[0;34m.\u001b[0m\u001b[0m_next_data\u001b[0m\u001b[0;34m(\u001b[0m\u001b[0;34m)\u001b[0m\u001b[0;34m\u001b[0m\u001b[0;34m\u001b[0m\u001b[0m\n\u001b[0m\u001b[1;32m    629\u001b[0m             \u001b[0mself\u001b[0m\u001b[0;34m.\u001b[0m\u001b[0m_num_yielded\u001b[0m \u001b[0;34m+=\u001b[0m \u001b[0;36m1\u001b[0m\u001b[0;34m\u001b[0m\u001b[0;34m\u001b[0m\u001b[0m\n\u001b[1;32m    630\u001b[0m             \u001b[0;32mif\u001b[0m \u001b[0mself\u001b[0m\u001b[0;34m.\u001b[0m\u001b[0m_dataset_kind\u001b[0m \u001b[0;34m==\u001b[0m \u001b[0m_DatasetKind\u001b[0m\u001b[0;34m.\u001b[0m\u001b[0mIterable\u001b[0m \u001b[0;32mand\u001b[0m\u001b[0;31m \u001b[0m\u001b[0;31m\\\u001b[0m\u001b[0;34m\u001b[0m\u001b[0;34m\u001b[0m\u001b[0m\n",
      "\u001b[0;32m~/anaconda3/envs/kaggle2/lib/python3.7/site-packages/torch/utils/data/dataloader.py\u001b[0m in \u001b[0;36m_next_data\u001b[0;34m(self)\u001b[0m\n\u001b[1;32m    669\u001b[0m     \u001b[0;32mdef\u001b[0m \u001b[0m_next_data\u001b[0m\u001b[0;34m(\u001b[0m\u001b[0mself\u001b[0m\u001b[0;34m)\u001b[0m\u001b[0;34m:\u001b[0m\u001b[0;34m\u001b[0m\u001b[0;34m\u001b[0m\u001b[0m\n\u001b[1;32m    670\u001b[0m         \u001b[0mindex\u001b[0m \u001b[0;34m=\u001b[0m \u001b[0mself\u001b[0m\u001b[0;34m.\u001b[0m\u001b[0m_next_index\u001b[0m\u001b[0;34m(\u001b[0m\u001b[0;34m)\u001b[0m  \u001b[0;31m# may raise StopIteration\u001b[0m\u001b[0;34m\u001b[0m\u001b[0;34m\u001b[0m\u001b[0m\n\u001b[0;32m--> 671\u001b[0;31m         \u001b[0mdata\u001b[0m \u001b[0;34m=\u001b[0m \u001b[0mself\u001b[0m\u001b[0;34m.\u001b[0m\u001b[0m_dataset_fetcher\u001b[0m\u001b[0;34m.\u001b[0m\u001b[0mfetch\u001b[0m\u001b[0;34m(\u001b[0m\u001b[0mindex\u001b[0m\u001b[0;34m)\u001b[0m  \u001b[0;31m# may raise StopIteration\u001b[0m\u001b[0;34m\u001b[0m\u001b[0;34m\u001b[0m\u001b[0m\n\u001b[0m\u001b[1;32m    672\u001b[0m         \u001b[0;32mif\u001b[0m \u001b[0mself\u001b[0m\u001b[0;34m.\u001b[0m\u001b[0m_pin_memory\u001b[0m\u001b[0;34m:\u001b[0m\u001b[0;34m\u001b[0m\u001b[0;34m\u001b[0m\u001b[0m\n\u001b[1;32m    673\u001b[0m             \u001b[0mdata\u001b[0m \u001b[0;34m=\u001b[0m \u001b[0m_utils\u001b[0m\u001b[0;34m.\u001b[0m\u001b[0mpin_memory\u001b[0m\u001b[0;34m.\u001b[0m\u001b[0mpin_memory\u001b[0m\u001b[0;34m(\u001b[0m\u001b[0mdata\u001b[0m\u001b[0;34m,\u001b[0m \u001b[0mself\u001b[0m\u001b[0;34m.\u001b[0m\u001b[0m_pin_memory_device\u001b[0m\u001b[0;34m)\u001b[0m\u001b[0;34m\u001b[0m\u001b[0;34m\u001b[0m\u001b[0m\n",
      "\u001b[0;32m~/anaconda3/envs/kaggle2/lib/python3.7/site-packages/torch/utils/data/_utils/fetch.py\u001b[0m in \u001b[0;36mfetch\u001b[0;34m(self, possibly_batched_index)\u001b[0m\n\u001b[1;32m     56\u001b[0m                 \u001b[0mdata\u001b[0m \u001b[0;34m=\u001b[0m \u001b[0mself\u001b[0m\u001b[0;34m.\u001b[0m\u001b[0mdataset\u001b[0m\u001b[0;34m.\u001b[0m\u001b[0m__getitems__\u001b[0m\u001b[0;34m(\u001b[0m\u001b[0mpossibly_batched_index\u001b[0m\u001b[0;34m)\u001b[0m\u001b[0;34m\u001b[0m\u001b[0;34m\u001b[0m\u001b[0m\n\u001b[1;32m     57\u001b[0m             \u001b[0;32melse\u001b[0m\u001b[0;34m:\u001b[0m\u001b[0;34m\u001b[0m\u001b[0;34m\u001b[0m\u001b[0m\n\u001b[0;32m---> 58\u001b[0;31m                 \u001b[0mdata\u001b[0m \u001b[0;34m=\u001b[0m \u001b[0;34m[\u001b[0m\u001b[0mself\u001b[0m\u001b[0;34m.\u001b[0m\u001b[0mdataset\u001b[0m\u001b[0;34m[\u001b[0m\u001b[0midx\u001b[0m\u001b[0;34m]\u001b[0m \u001b[0;32mfor\u001b[0m \u001b[0midx\u001b[0m \u001b[0;32min\u001b[0m \u001b[0mpossibly_batched_index\u001b[0m\u001b[0;34m]\u001b[0m\u001b[0;34m\u001b[0m\u001b[0;34m\u001b[0m\u001b[0m\n\u001b[0m\u001b[1;32m     59\u001b[0m         \u001b[0;32melse\u001b[0m\u001b[0;34m:\u001b[0m\u001b[0;34m\u001b[0m\u001b[0;34m\u001b[0m\u001b[0m\n\u001b[1;32m     60\u001b[0m             \u001b[0mdata\u001b[0m \u001b[0;34m=\u001b[0m \u001b[0mself\u001b[0m\u001b[0;34m.\u001b[0m\u001b[0mdataset\u001b[0m\u001b[0;34m[\u001b[0m\u001b[0mpossibly_batched_index\u001b[0m\u001b[0;34m]\u001b[0m\u001b[0;34m\u001b[0m\u001b[0;34m\u001b[0m\u001b[0m\n",
      "\u001b[0;32m~/anaconda3/envs/kaggle2/lib/python3.7/site-packages/torch/utils/data/_utils/fetch.py\u001b[0m in \u001b[0;36m<listcomp>\u001b[0;34m(.0)\u001b[0m\n\u001b[1;32m     56\u001b[0m                 \u001b[0mdata\u001b[0m \u001b[0;34m=\u001b[0m \u001b[0mself\u001b[0m\u001b[0;34m.\u001b[0m\u001b[0mdataset\u001b[0m\u001b[0;34m.\u001b[0m\u001b[0m__getitems__\u001b[0m\u001b[0;34m(\u001b[0m\u001b[0mpossibly_batched_index\u001b[0m\u001b[0;34m)\u001b[0m\u001b[0;34m\u001b[0m\u001b[0;34m\u001b[0m\u001b[0m\n\u001b[1;32m     57\u001b[0m             \u001b[0;32melse\u001b[0m\u001b[0;34m:\u001b[0m\u001b[0;34m\u001b[0m\u001b[0;34m\u001b[0m\u001b[0m\n\u001b[0;32m---> 58\u001b[0;31m                 \u001b[0mdata\u001b[0m \u001b[0;34m=\u001b[0m \u001b[0;34m[\u001b[0m\u001b[0mself\u001b[0m\u001b[0;34m.\u001b[0m\u001b[0mdataset\u001b[0m\u001b[0;34m[\u001b[0m\u001b[0midx\u001b[0m\u001b[0;34m]\u001b[0m \u001b[0;32mfor\u001b[0m \u001b[0midx\u001b[0m \u001b[0;32min\u001b[0m \u001b[0mpossibly_batched_index\u001b[0m\u001b[0;34m]\u001b[0m\u001b[0;34m\u001b[0m\u001b[0;34m\u001b[0m\u001b[0m\n\u001b[0m\u001b[1;32m     59\u001b[0m         \u001b[0;32melse\u001b[0m\u001b[0;34m:\u001b[0m\u001b[0;34m\u001b[0m\u001b[0;34m\u001b[0m\u001b[0m\n\u001b[1;32m     60\u001b[0m             \u001b[0mdata\u001b[0m \u001b[0;34m=\u001b[0m \u001b[0mself\u001b[0m\u001b[0;34m.\u001b[0m\u001b[0mdataset\u001b[0m\u001b[0;34m[\u001b[0m\u001b[0mpossibly_batched_index\u001b[0m\u001b[0;34m]\u001b[0m\u001b[0;34m\u001b[0m\u001b[0;34m\u001b[0m\u001b[0m\n",
      "\u001b[0;32m/tmp/ipykernel_403458/325497659.py\u001b[0m in \u001b[0;36m__getitem__\u001b[0;34m(self, idx)\u001b[0m\n\u001b[1;32m     10\u001b[0m         \u001b[0mname_img\u001b[0m \u001b[0;34m=\u001b[0m \u001b[0mself\u001b[0m\u001b[0;34m.\u001b[0m\u001b[0mdf\u001b[0m\u001b[0;34m.\u001b[0m\u001b[0miloc\u001b[0m\u001b[0;34m[\u001b[0m\u001b[0midx\u001b[0m\u001b[0;34m]\u001b[0m\u001b[0;34m[\u001b[0m\u001b[0;34m'filename'\u001b[0m\u001b[0;34m]\u001b[0m\u001b[0;34m\u001b[0m\u001b[0;34m\u001b[0m\u001b[0m\n\u001b[1;32m     11\u001b[0m         \u001b[0mimg\u001b[0m \u001b[0;34m=\u001b[0m \u001b[0mcv\u001b[0m\u001b[0;34m.\u001b[0m\u001b[0mimread\u001b[0m\u001b[0;34m(\u001b[0m\u001b[0mname_img\u001b[0m\u001b[0;34m)\u001b[0m\u001b[0;34m\u001b[0m\u001b[0;34m\u001b[0m\u001b[0m\n\u001b[0;32m---> 12\u001b[0;31m         \u001b[0mimg\u001b[0m \u001b[0;34m=\u001b[0m \u001b[0mcv\u001b[0m\u001b[0;34m.\u001b[0m\u001b[0mcvtColor\u001b[0m\u001b[0;34m(\u001b[0m\u001b[0mimg\u001b[0m\u001b[0;34m,\u001b[0m\u001b[0mcv\u001b[0m\u001b[0;34m.\u001b[0m\u001b[0mCOLOR_BGR2RGB\u001b[0m\u001b[0;34m)\u001b[0m\u001b[0;34m\u001b[0m\u001b[0;34m\u001b[0m\u001b[0m\n\u001b[0m\u001b[1;32m     13\u001b[0m         \u001b[0mimg\u001b[0m \u001b[0;34m=\u001b[0m \u001b[0mcv\u001b[0m\u001b[0;34m.\u001b[0m\u001b[0mresize\u001b[0m\u001b[0;34m(\u001b[0m\u001b[0mimg\u001b[0m\u001b[0;34m,\u001b[0m\u001b[0;34m(\u001b[0m\u001b[0;36m500\u001b[0m\u001b[0;34m,\u001b[0m\u001b[0;36m300\u001b[0m\u001b[0;34m)\u001b[0m\u001b[0;34m)\u001b[0m\u001b[0;34m\u001b[0m\u001b[0;34m\u001b[0m\u001b[0m\n\u001b[1;32m     14\u001b[0m         \u001b[0mimg\u001b[0m \u001b[0;34m=\u001b[0m \u001b[0mimg\u001b[0m\u001b[0;34m.\u001b[0m\u001b[0mastype\u001b[0m\u001b[0;34m(\u001b[0m\u001b[0mnp\u001b[0m\u001b[0;34m.\u001b[0m\u001b[0mfloat32\u001b[0m\u001b[0;34m)\u001b[0m\u001b[0;34m/\u001b[0m\u001b[0;36m255.0\u001b[0m\u001b[0;34m\u001b[0m\u001b[0;34m\u001b[0m\u001b[0m\n",
      "\u001b[0;31merror\u001b[0m: OpenCV(4.7.0) /io/opencv/modules/imgproc/src/color.cpp:182: error: (-215:Assertion failed) !_src.empty() in function 'cvtColor'\n"
     ]
    }
   ],
   "source": [
    "a,b = next(iter(train_dl))\n",
    "print(a.shape)\n",
    "print(b.shape)\n",
    "print('chart_type:',list(CFG.label_map)[b[0].detach().numpy()])\n",
    "plt.imshow(a[0].permute(1,2,0))"
   ]
  },
  {
   "cell_type": "markdown",
   "id": "cb34f210",
   "metadata": {
    "papermill": {
     "duration": 0.006374,
     "end_time": "2023-04-09T18:48:18.572971",
     "exception": false,
     "start_time": "2023-04-09T18:48:18.566597",
     "status": "completed"
    },
    "tags": []
   },
   "source": [
    "# 4. Define Model - ResNet50"
   ]
  },
  {
   "cell_type": "code",
   "execution_count": 13,
   "id": "5be30164",
   "metadata": {
    "execution": {
     "iopub.execute_input": "2023-04-09T18:48:18.586716Z",
     "iopub.status.busy": "2023-04-09T18:48:18.586417Z",
     "iopub.status.idle": "2023-04-09T18:48:21.725993Z",
     "shell.execute_reply": "2023-04-09T18:48:21.724877Z"
    },
    "papermill": {
     "duration": 3.149286,
     "end_time": "2023-04-09T18:48:21.728609",
     "exception": false,
     "start_time": "2023-04-09T18:48:18.579323",
     "status": "completed"
    },
    "tags": []
   },
   "outputs": [
    {
     "name": "stderr",
     "output_type": "stream",
     "text": [
      "/opt/conda/lib/python3.7/site-packages/torchvision/models/_utils.py:209: UserWarning: The parameter 'pretrained' is deprecated since 0.13 and may be removed in the future, please use 'weights' instead.\n",
      "  f\"The parameter '{pretrained_param}' is deprecated since 0.13 and may be removed in the future, \"\n",
      "/opt/conda/lib/python3.7/site-packages/torchvision/models/_utils.py:223: UserWarning: Arguments other than a weight enum or `None` for 'weights' are deprecated since 0.13 and may be removed in the future. The current behavior is equivalent to passing `weights=None`.\n",
      "  warnings.warn(msg)\n"
     ]
    },
    {
     "data": {
      "text/plain": [
       "device(type='cuda', index=0)"
      ]
     },
     "execution_count": 13,
     "metadata": {},
     "output_type": "execute_result"
    }
   ],
   "source": [
    "model = torchvision.models.resnet50(pretrained=False)\n",
    "\n",
    "\n",
    "num_features = model.fc.in_features\n",
    "model.fc = nn.Linear(num_features, CFG.num_classes)\n",
    "device = torch.device(\"cuda:0\" if torch.cuda.is_available() else \"cpu\")\n",
    "myModel = model.to(device)\n",
    "next(myModel.parameters()).device"
   ]
  },
  {
   "cell_type": "markdown",
   "id": "cb28e4a8",
   "metadata": {
    "papermill": {
     "duration": 0.006418,
     "end_time": "2023-04-09T18:48:21.742191",
     "exception": false,
     "start_time": "2023-04-09T18:48:21.735773",
     "status": "completed"
    },
    "tags": []
   },
   "source": [
    "# 5. Training"
   ]
  },
  {
   "cell_type": "code",
   "execution_count": 14,
   "id": "d8d128f9",
   "metadata": {
    "execution": {
     "iopub.execute_input": "2023-04-09T18:48:21.757021Z",
     "iopub.status.busy": "2023-04-09T18:48:21.756688Z",
     "iopub.status.idle": "2023-04-09T22:49:16.404490Z",
     "shell.execute_reply": "2023-04-09T22:49:16.403456Z"
    },
    "papermill": {
     "duration": 14454.676089,
     "end_time": "2023-04-09T22:49:16.424692",
     "exception": false,
     "start_time": "2023-04-09T18:48:21.748603",
     "status": "completed"
    },
    "tags": []
   },
   "outputs": [
    {
     "name": "stdout",
     "output_type": "stream",
     "text": [
      "Epoch [1/10], Step [50/1515], Loss : 1.0709\n",
      "Epoch [1/10], Step [100/1515], Loss : 0.8168\n",
      "Epoch [1/10], Step [150/1515], Loss : 0.6644\n",
      "Epoch [1/10], Step [200/1515], Loss : 0.5792\n",
      "Epoch [1/10], Step [250/1515], Loss : 0.5098\n",
      "Epoch [1/10], Step [300/1515], Loss : 0.4659\n",
      "Epoch [1/10], Step [350/1515], Loss : 0.4302\n",
      "Epoch [1/10], Step [400/1515], Loss : 0.3976\n",
      "Epoch [1/10], Step [450/1515], Loss : 0.3678\n",
      "Epoch [1/10], Step [500/1515], Loss : 0.3444\n",
      "Epoch [1/10], Step [550/1515], Loss : 0.3236\n",
      "Epoch [1/10], Step [600/1515], Loss : 0.3068\n",
      "Epoch [1/10], Step [650/1515], Loss : 0.2913\n",
      "Epoch [1/10], Step [700/1515], Loss : 0.2781\n",
      "Epoch [1/10], Step [750/1515], Loss : 0.2710\n",
      "Epoch [1/10], Step [800/1515], Loss : 0.2585\n",
      "Epoch [1/10], Step [850/1515], Loss : 0.2476\n",
      "Epoch [1/10], Step [900/1515], Loss : 0.2377\n",
      "Epoch [1/10], Step [950/1515], Loss : 0.2290\n",
      "Epoch [1/10], Step [1000/1515], Loss : 0.2205\n",
      "Epoch [1/10], Step [1050/1515], Loss : 0.2123\n",
      "Epoch [1/10], Step [1100/1515], Loss : 0.2056\n",
      "Epoch [1/10], Step [1150/1515], Loss : 0.1991\n",
      "Epoch [1/10], Step [1200/1515], Loss : 0.1924\n",
      "Epoch [1/10], Step [1250/1515], Loss : 0.1867\n",
      "Epoch [1/10], Step [1300/1515], Loss : 0.1821\n",
      "Epoch [1/10], Step [1350/1515], Loss : 0.1774\n",
      "Epoch [1/10], Step [1400/1515], Loss : 0.1729\n",
      "Epoch [1/10], Step [1450/1515], Loss : 0.1692\n",
      "Epoch [1/10], Step [1500/1515], Loss : 0.1651\n",
      "Epoch: 1, Loss: 0.1639, Accuracy: 0.9408\n",
      "Accuracy of the network val: 98.2007 %\n",
      "Saving best model!\n",
      "Epoch [2/10], Step [50/1515], Loss : 0.0781\n",
      "Epoch [2/10], Step [100/1515], Loss : 0.0688\n",
      "Epoch [2/10], Step [150/1515], Loss : 0.0675\n",
      "Epoch [2/10], Step [200/1515], Loss : 0.0595\n",
      "Epoch [2/10], Step [250/1515], Loss : 0.0535\n",
      "Epoch [2/10], Step [300/1515], Loss : 0.0531\n",
      "Epoch [2/10], Step [350/1515], Loss : 0.0513\n",
      "Epoch [2/10], Step [400/1515], Loss : 0.0497\n",
      "Epoch [2/10], Step [450/1515], Loss : 0.0488\n",
      "Epoch [2/10], Step [500/1515], Loss : 0.0484\n",
      "Epoch [2/10], Step [550/1515], Loss : 0.0512\n",
      "Epoch [2/10], Step [600/1515], Loss : 0.0497\n",
      "Epoch [2/10], Step [650/1515], Loss : 0.0477\n",
      "Epoch [2/10], Step [700/1515], Loss : 0.0476\n",
      "Epoch [2/10], Step [750/1515], Loss : 0.0469\n",
      "Epoch [2/10], Step [800/1515], Loss : 0.0463\n",
      "Epoch [2/10], Step [850/1515], Loss : 0.0482\n",
      "Epoch [2/10], Step [900/1515], Loss : 0.0514\n",
      "Epoch [2/10], Step [950/1515], Loss : 0.0538\n",
      "Epoch [2/10], Step [1000/1515], Loss : 0.0535\n",
      "Epoch [2/10], Step [1050/1515], Loss : 0.0524\n",
      "Epoch [2/10], Step [1100/1515], Loss : 0.0516\n",
      "Epoch [2/10], Step [1150/1515], Loss : 0.0510\n",
      "Epoch [2/10], Step [1200/1515], Loss : 0.0502\n",
      "Epoch [2/10], Step [1250/1515], Loss : 0.0493\n",
      "Epoch [2/10], Step [1300/1515], Loss : 0.0496\n",
      "Epoch [2/10], Step [1350/1515], Loss : 0.0492\n",
      "Epoch [2/10], Step [1400/1515], Loss : 0.0489\n",
      "Epoch [2/10], Step [1450/1515], Loss : 0.0489\n",
      "Epoch [2/10], Step [1500/1515], Loss : 0.0494\n",
      "Epoch: 2, Loss: 0.0491, Accuracy: 0.9845\n",
      "Accuracy of the network val: 99.0508 %\n",
      "Saving best model!\n",
      "Epoch [3/10], Step [50/1515], Loss : 0.0211\n",
      "Epoch [3/10], Step [100/1515], Loss : 0.0210\n",
      "Epoch [3/10], Step [150/1515], Loss : 0.0203\n",
      "Epoch [3/10], Step [200/1515], Loss : 0.0340\n",
      "Epoch [3/10], Step [250/1515], Loss : 0.0395\n",
      "Epoch [3/10], Step [300/1515], Loss : 0.0466\n",
      "Epoch [3/10], Step [350/1515], Loss : 0.0461\n",
      "Epoch [3/10], Step [400/1515], Loss : 0.0475\n",
      "Epoch [3/10], Step [450/1515], Loss : 0.0492\n",
      "Epoch [3/10], Step [500/1515], Loss : 0.0495\n",
      "Epoch [3/10], Step [550/1515], Loss : 0.0486\n",
      "Epoch [3/10], Step [600/1515], Loss : 0.0480\n",
      "Epoch [3/10], Step [650/1515], Loss : 0.0462\n",
      "Epoch [3/10], Step [700/1515], Loss : 0.0450\n",
      "Epoch [3/10], Step [750/1515], Loss : 0.0438\n",
      "Epoch [3/10], Step [800/1515], Loss : 0.0423\n",
      "Epoch [3/10], Step [850/1515], Loss : 0.0433\n",
      "Epoch [3/10], Step [900/1515], Loss : 0.0581\n",
      "Epoch [3/10], Step [950/1515], Loss : 0.0621\n",
      "Epoch [3/10], Step [1000/1515], Loss : 0.0666\n",
      "Epoch [3/10], Step [1050/1515], Loss : 0.0662\n",
      "Epoch [3/10], Step [1100/1515], Loss : 0.0657\n",
      "Epoch [3/10], Step [1150/1515], Loss : 0.0647\n",
      "Epoch [3/10], Step [1200/1515], Loss : 0.0642\n",
      "Epoch [3/10], Step [1250/1515], Loss : 0.0629\n",
      "Epoch [3/10], Step [1300/1515], Loss : 0.0626\n",
      "Epoch [3/10], Step [1350/1515], Loss : 0.0622\n",
      "Epoch [3/10], Step [1400/1515], Loss : 0.0615\n",
      "Epoch [3/10], Step [1450/1515], Loss : 0.0607\n",
      "Epoch [3/10], Step [1500/1515], Loss : 0.0605\n",
      "Epoch: 3, Loss: 0.0601, Accuracy: 0.9824\n",
      "Accuracy of the network val: 98.8032 %\n",
      "Epoch [4/10], Step [50/1515], Loss : 0.0236\n",
      "Epoch [4/10], Step [100/1515], Loss : 0.0236\n",
      "Epoch [4/10], Step [150/1515], Loss : 0.0255\n",
      "Epoch [4/10], Step [200/1515], Loss : 0.0266\n",
      "Epoch [4/10], Step [250/1515], Loss : 0.0278\n",
      "Epoch [4/10], Step [300/1515], Loss : 0.0293\n",
      "Epoch [4/10], Step [350/1515], Loss : 0.0332\n",
      "Epoch [4/10], Step [400/1515], Loss : 0.0325\n",
      "Epoch [4/10], Step [450/1515], Loss : 0.0306\n",
      "Epoch [4/10], Step [500/1515], Loss : 0.0308\n",
      "Epoch [4/10], Step [550/1515], Loss : 0.0297\n",
      "Epoch [4/10], Step [600/1515], Loss : 0.0292\n",
      "Epoch [4/10], Step [650/1515], Loss : 0.0284\n",
      "Epoch [4/10], Step [700/1515], Loss : 0.0278\n",
      "Epoch [4/10], Step [750/1515], Loss : 0.0284\n",
      "Epoch [4/10], Step [800/1515], Loss : 0.0281\n",
      "Epoch [4/10], Step [850/1515], Loss : 0.0277\n",
      "Epoch [4/10], Step [900/1515], Loss : 0.0288\n",
      "Epoch [4/10], Step [950/1515], Loss : 0.0295\n",
      "Epoch [4/10], Step [1000/1515], Loss : 0.0300\n",
      "Epoch [4/10], Step [1050/1515], Loss : 0.0305\n",
      "Epoch [4/10], Step [1100/1515], Loss : 0.0315\n",
      "Epoch [4/10], Step [1150/1515], Loss : 0.0307\n",
      "Epoch [4/10], Step [1200/1515], Loss : 0.0304\n",
      "Epoch [4/10], Step [1250/1515], Loss : 0.0307\n",
      "Epoch [4/10], Step [1300/1515], Loss : 0.0304\n",
      "Epoch [4/10], Step [1350/1515], Loss : 0.0302\n",
      "Epoch [4/10], Step [1400/1515], Loss : 0.0299\n",
      "Epoch [4/10], Step [1450/1515], Loss : 0.0292\n",
      "Epoch [4/10], Step [1500/1515], Loss : 0.0289\n",
      "Epoch: 4, Loss: 0.0290, Accuracy: 0.9904\n",
      "Accuracy of the network val: 99.0096 %\n",
      "Epoch [5/10], Step [50/1515], Loss : 0.0409\n",
      "Epoch [5/10], Step [100/1515], Loss : 0.0312\n",
      "Epoch [5/10], Step [150/1515], Loss : 0.0313\n",
      "Epoch [5/10], Step [200/1515], Loss : 0.0304\n",
      "Epoch [5/10], Step [250/1515], Loss : 0.0300\n",
      "Epoch [5/10], Step [300/1515], Loss : 0.0279\n",
      "Epoch [5/10], Step [350/1515], Loss : 0.0263\n",
      "Epoch [5/10], Step [400/1515], Loss : 0.0259\n",
      "Epoch [5/10], Step [450/1515], Loss : 0.0258\n",
      "Epoch [5/10], Step [500/1515], Loss : 0.0248\n",
      "Epoch [5/10], Step [550/1515], Loss : 0.0241\n",
      "Epoch [5/10], Step [600/1515], Loss : 0.0252\n",
      "Epoch [5/10], Step [650/1515], Loss : 0.0261\n",
      "Epoch [5/10], Step [700/1515], Loss : 0.0258\n",
      "Epoch [5/10], Step [750/1515], Loss : 0.0256\n",
      "Epoch [5/10], Step [800/1515], Loss : 0.0250\n",
      "Epoch [5/10], Step [850/1515], Loss : 0.0244\n",
      "Epoch [5/10], Step [900/1515], Loss : 0.0235\n",
      "Epoch [5/10], Step [950/1515], Loss : 0.0226\n",
      "Epoch [5/10], Step [1000/1515], Loss : 0.0220\n",
      "Epoch [5/10], Step [1050/1515], Loss : 0.0219\n",
      "Epoch [5/10], Step [1100/1515], Loss : 0.0213\n",
      "Epoch [5/10], Step [1150/1515], Loss : 0.0214\n",
      "Epoch [5/10], Step [1200/1515], Loss : 0.0212\n",
      "Epoch [5/10], Step [1250/1515], Loss : 0.0212\n",
      "Epoch [5/10], Step [1300/1515], Loss : 0.0209\n",
      "Epoch [5/10], Step [1350/1515], Loss : 0.0210\n",
      "Epoch [5/10], Step [1400/1515], Loss : 0.0206\n",
      "Epoch [5/10], Step [1450/1515], Loss : 0.0203\n",
      "Epoch [5/10], Step [1500/1515], Loss : 0.0203\n",
      "Epoch: 5, Loss: 0.0203, Accuracy: 0.9937\n",
      "Accuracy of the network val: 99.2819 %\n",
      "Saving best model!\n",
      "Epoch [6/10], Step [50/1515], Loss : 0.0204\n",
      "Epoch [6/10], Step [100/1515], Loss : 0.0165\n",
      "Epoch [6/10], Step [150/1515], Loss : 0.0173\n",
      "Epoch [6/10], Step [200/1515], Loss : 0.0152\n",
      "Epoch [6/10], Step [250/1515], Loss : 0.0151\n",
      "Epoch [6/10], Step [300/1515], Loss : 0.0147\n",
      "Epoch [6/10], Step [350/1515], Loss : 0.0146\n",
      "Epoch [6/10], Step [400/1515], Loss : 0.0141\n",
      "Epoch [6/10], Step [450/1515], Loss : 0.0149\n",
      "Epoch [6/10], Step [500/1515], Loss : 0.0151\n",
      "Epoch [6/10], Step [550/1515], Loss : 0.0150\n",
      "Epoch [6/10], Step [600/1515], Loss : 0.0144\n",
      "Epoch [6/10], Step [650/1515], Loss : 0.0141\n",
      "Epoch [6/10], Step [700/1515], Loss : 0.0141\n",
      "Epoch [6/10], Step [750/1515], Loss : 0.0144\n",
      "Epoch [6/10], Step [800/1515], Loss : 0.0139\n",
      "Epoch [6/10], Step [850/1515], Loss : 0.0137\n",
      "Epoch [6/10], Step [900/1515], Loss : 0.0135\n",
      "Epoch [6/10], Step [950/1515], Loss : 0.0131\n",
      "Epoch [6/10], Step [1000/1515], Loss : 0.0139\n",
      "Epoch [6/10], Step [1050/1515], Loss : 0.0155\n",
      "Epoch [6/10], Step [1100/1515], Loss : 0.0159\n",
      "Epoch [6/10], Step [1150/1515], Loss : 0.0157\n",
      "Epoch [6/10], Step [1200/1515], Loss : 0.0154\n",
      "Epoch [6/10], Step [1250/1515], Loss : 0.0157\n",
      "Epoch [6/10], Step [1300/1515], Loss : 0.0159\n",
      "Epoch [6/10], Step [1350/1515], Loss : 0.0159\n",
      "Epoch [6/10], Step [1400/1515], Loss : 0.0157\n",
      "Epoch [6/10], Step [1450/1515], Loss : 0.0162\n",
      "Epoch [6/10], Step [1500/1515], Loss : 0.0165\n",
      "Epoch: 6, Loss: 0.0165, Accuracy: 0.9949\n",
      "Accuracy of the network val: 99.5626 %\n",
      "Saving best model!\n",
      "Epoch [7/10], Step [50/1515], Loss : 0.0074\n",
      "Epoch [7/10], Step [100/1515], Loss : 0.0077\n",
      "Epoch [7/10], Step [150/1515], Loss : 0.0086\n",
      "Epoch [7/10], Step [200/1515], Loss : 0.0121\n",
      "Epoch [7/10], Step [250/1515], Loss : 0.0126\n",
      "Epoch [7/10], Step [300/1515], Loss : 0.0146\n",
      "Epoch [7/10], Step [350/1515], Loss : 0.0148\n",
      "Epoch [7/10], Step [400/1515], Loss : 0.0140\n",
      "Epoch [7/10], Step [450/1515], Loss : 0.0134\n",
      "Epoch [7/10], Step [500/1515], Loss : 0.0135\n",
      "Epoch [7/10], Step [550/1515], Loss : 0.0132\n",
      "Epoch [7/10], Step [600/1515], Loss : 0.0129\n",
      "Epoch [7/10], Step [650/1515], Loss : 0.0134\n",
      "Epoch [7/10], Step [700/1515], Loss : 0.0150\n",
      "Epoch [7/10], Step [750/1515], Loss : 0.0153\n",
      "Epoch [7/10], Step [800/1515], Loss : 0.0158\n",
      "Epoch [7/10], Step [850/1515], Loss : 0.0162\n",
      "Epoch [7/10], Step [900/1515], Loss : 0.0164\n",
      "Epoch [7/10], Step [950/1515], Loss : 0.0160\n",
      "Epoch [7/10], Step [1000/1515], Loss : 0.0159\n",
      "Epoch [7/10], Step [1050/1515], Loss : 0.0159\n",
      "Epoch [7/10], Step [1100/1515], Loss : 0.0155\n",
      "Epoch [7/10], Step [1150/1515], Loss : 0.0157\n",
      "Epoch [7/10], Step [1200/1515], Loss : 0.0170\n",
      "Epoch [7/10], Step [1250/1515], Loss : 0.0166\n",
      "Epoch [7/10], Step [1300/1515], Loss : 0.0164\n",
      "Epoch [7/10], Step [1350/1515], Loss : 0.0162\n",
      "Epoch [7/10], Step [1400/1515], Loss : 0.0159\n",
      "Epoch [7/10], Step [1450/1515], Loss : 0.0156\n",
      "Epoch [7/10], Step [1500/1515], Loss : 0.0152\n",
      "Epoch: 7, Loss: 0.0151, Accuracy: 0.9952\n",
      "Accuracy of the network val: 99.6286 %\n",
      "Saving best model!\n",
      "Epoch [8/10], Step [50/1515], Loss : 0.0127\n",
      "Epoch [8/10], Step [100/1515], Loss : 0.0087\n",
      "Epoch [8/10], Step [150/1515], Loss : 0.0103\n",
      "Epoch [8/10], Step [200/1515], Loss : 0.0102\n",
      "Epoch [8/10], Step [250/1515], Loss : 0.0118\n",
      "Epoch [8/10], Step [300/1515], Loss : 0.0113\n",
      "Epoch [8/10], Step [350/1515], Loss : 0.0104\n",
      "Epoch [8/10], Step [400/1515], Loss : 0.0099\n",
      "Epoch [8/10], Step [450/1515], Loss : 0.0099\n",
      "Epoch [8/10], Step [500/1515], Loss : 0.0102\n",
      "Epoch [8/10], Step [550/1515], Loss : 0.0102\n",
      "Epoch [8/10], Step [600/1515], Loss : 0.0105\n",
      "Epoch [8/10], Step [650/1515], Loss : 0.0109\n",
      "Epoch [8/10], Step [700/1515], Loss : 0.0112\n",
      "Epoch [8/10], Step [750/1515], Loss : 0.0111\n",
      "Epoch [8/10], Step [800/1515], Loss : 0.0114\n",
      "Epoch [8/10], Step [850/1515], Loss : 0.0114\n",
      "Epoch [8/10], Step [900/1515], Loss : 0.0111\n",
      "Epoch [8/10], Step [950/1515], Loss : 0.0108\n",
      "Epoch [8/10], Step [1000/1515], Loss : 0.0107\n",
      "Epoch [8/10], Step [1050/1515], Loss : 0.0106\n",
      "Epoch [8/10], Step [1100/1515], Loss : 0.0105\n",
      "Epoch [8/10], Step [1150/1515], Loss : 0.0104\n",
      "Epoch [8/10], Step [1200/1515], Loss : 0.0101\n",
      "Epoch [8/10], Step [1250/1515], Loss : 0.0104\n",
      "Epoch [8/10], Step [1300/1515], Loss : 0.0101\n",
      "Epoch [8/10], Step [1350/1515], Loss : 0.0099\n",
      "Epoch [8/10], Step [1400/1515], Loss : 0.0108\n",
      "Epoch [8/10], Step [1450/1515], Loss : 0.0108\n",
      "Epoch [8/10], Step [1500/1515], Loss : 0.0106\n",
      "Epoch: 8, Loss: 0.0105, Accuracy: 0.9969\n",
      "Accuracy of the network val: 99.6286 %\n",
      "Epoch [9/10], Step [50/1515], Loss : 0.0140\n",
      "Epoch [9/10], Step [100/1515], Loss : 0.0097\n",
      "Epoch [9/10], Step [150/1515], Loss : 0.0072\n",
      "Epoch [9/10], Step [200/1515], Loss : 0.0135\n",
      "Epoch [9/10], Step [250/1515], Loss : 0.0119\n",
      "Epoch [9/10], Step [300/1515], Loss : 0.0108\n",
      "Epoch [9/10], Step [350/1515], Loss : 0.0100\n",
      "Epoch [9/10], Step [400/1515], Loss : 0.0091\n",
      "Epoch [9/10], Step [450/1515], Loss : 0.0091\n",
      "Epoch [9/10], Step [500/1515], Loss : 0.0085\n",
      "Epoch [9/10], Step [550/1515], Loss : 0.0081\n",
      "Epoch [9/10], Step [600/1515], Loss : 0.0077\n",
      "Epoch [9/10], Step [650/1515], Loss : 0.0077\n",
      "Epoch [9/10], Step [700/1515], Loss : 0.0075\n",
      "Epoch [9/10], Step [750/1515], Loss : 0.0071\n",
      "Epoch [9/10], Step [800/1515], Loss : 0.0070\n",
      "Epoch [9/10], Step [850/1515], Loss : 0.0073\n",
      "Epoch [9/10], Step [900/1515], Loss : 0.0071\n",
      "Epoch [9/10], Step [950/1515], Loss : 0.0069\n",
      "Epoch [9/10], Step [1000/1515], Loss : 0.0069\n",
      "Epoch [9/10], Step [1050/1515], Loss : 0.0068\n",
      "Epoch [9/10], Step [1100/1515], Loss : 0.0067\n",
      "Epoch [9/10], Step [1150/1515], Loss : 0.0066\n",
      "Epoch [9/10], Step [1200/1515], Loss : 0.0065\n",
      "Epoch [9/10], Step [1250/1515], Loss : 0.0063\n",
      "Epoch [9/10], Step [1300/1515], Loss : 0.0063\n",
      "Epoch [9/10], Step [1350/1515], Loss : 0.0061\n",
      "Epoch [9/10], Step [1400/1515], Loss : 0.0060\n",
      "Epoch [9/10], Step [1450/1515], Loss : 0.0062\n",
      "Epoch [9/10], Step [1500/1515], Loss : 0.0061\n",
      "Epoch: 9, Loss: 0.0060, Accuracy: 0.9983\n",
      "Accuracy of the network val: 99.7689 %\n",
      "Saving best model!\n",
      "Epoch [10/10], Step [50/1515], Loss : 0.0016\n",
      "Epoch [10/10], Step [100/1515], Loss : 0.0062\n",
      "Epoch [10/10], Step [150/1515], Loss : 0.0048\n",
      "Epoch [10/10], Step [200/1515], Loss : 0.0055\n",
      "Epoch [10/10], Step [250/1515], Loss : 0.0051\n",
      "Epoch [10/10], Step [300/1515], Loss : 0.0044\n",
      "Epoch [10/10], Step [350/1515], Loss : 0.0044\n",
      "Epoch [10/10], Step [400/1515], Loss : 0.0041\n",
      "Epoch [10/10], Step [450/1515], Loss : 0.0054\n",
      "Epoch [10/10], Step [500/1515], Loss : 0.0053\n",
      "Epoch [10/10], Step [550/1515], Loss : 0.0059\n",
      "Epoch [10/10], Step [600/1515], Loss : 0.0055\n",
      "Epoch [10/10], Step [650/1515], Loss : 0.0052\n",
      "Epoch [10/10], Step [700/1515], Loss : 0.0049\n",
      "Epoch [10/10], Step [750/1515], Loss : 0.0047\n",
      "Epoch [10/10], Step [800/1515], Loss : 0.0048\n",
      "Epoch [10/10], Step [850/1515], Loss : 0.0046\n",
      "Epoch [10/10], Step [900/1515], Loss : 0.0045\n",
      "Epoch [10/10], Step [950/1515], Loss : 0.0044\n",
      "Epoch [10/10], Step [1000/1515], Loss : 0.0045\n",
      "Epoch [10/10], Step [1050/1515], Loss : 0.0045\n",
      "Epoch [10/10], Step [1100/1515], Loss : 0.0043\n",
      "Epoch [10/10], Step [1150/1515], Loss : 0.0043\n",
      "Epoch [10/10], Step [1200/1515], Loss : 0.0042\n",
      "Epoch [10/10], Step [1250/1515], Loss : 0.0041\n",
      "Epoch [10/10], Step [1300/1515], Loss : 0.0040\n",
      "Epoch [10/10], Step [1350/1515], Loss : 0.0041\n",
      "Epoch [10/10], Step [1400/1515], Loss : 0.0040\n",
      "Epoch [10/10], Step [1450/1515], Loss : 0.0039\n",
      "Epoch [10/10], Step [1500/1515], Loss : 0.0039\n",
      "Epoch: 10, Loss: 0.0039, Accuracy: 0.9990\n",
      "Accuracy of the network val: 99.8102 %\n",
      "Saving best model!\n",
      "Finished Training\n"
     ]
    }
   ],
   "source": [
    "def training(model, train_dl, val_dl, num_epochs):\n",
    "  # Loss Function, Optimizer and Scheduler\n",
    "  criterion = nn.CrossEntropyLoss()\n",
    "  optimizer = torch.optim.Adam(model.parameters(),lr=0.0001)\n",
    "  scheduler = torch.optim.lr_scheduler.OneCycleLR(optimizer, max_lr=0.001,\n",
    "                                                steps_per_epoch=int(len(train_dl)),\n",
    "                                                epochs=num_epochs,\n",
    "                                                anneal_strategy='linear')\n",
    "\n",
    "  # Repeat for each epoch\n",
    "  best_acc = -1\n",
    "  for epoch in range(num_epochs):\n",
    "    running_loss = 0.0\n",
    "    correct_prediction = 0\n",
    "    total_prediction = 0\n",
    "\n",
    "    # Repeat for each batch in the training set\n",
    "    for i, data in enumerate(train_dl):\n",
    "        # Get the input features and target labels, and put them on the GPU\n",
    "        inputs, labels = data[0].to(device), data[1].to(device)\n",
    "\n",
    "        # Normalize the inputs\n",
    "        inputs_m, inputs_s = inputs.mean(), inputs.std()\n",
    "        inputs = (inputs - inputs_m) / inputs_s\n",
    "\n",
    "        # Zero the parameter gradients\n",
    "        optimizer.zero_grad()\n",
    "\n",
    "        # forward + backward + optimize\n",
    "        outputs = model(inputs)\n",
    "        loss = criterion(outputs, labels)\n",
    "        loss.backward()\n",
    "        optimizer.step()\n",
    "        scheduler.step()\n",
    "\n",
    "        # Keep stats for Loss and Accuracy\n",
    "        running_loss += loss.item()\n",
    "\n",
    "        # Get the predicted class with the highest score\n",
    "        _, prediction = torch.max(outputs,1)\n",
    "        # Count of predictions that matched the target label\n",
    "        correct_prediction += (prediction == labels).sum().item()\n",
    "        total_prediction += prediction.shape[0]\n",
    "\n",
    "        if (i + 1) % 50 == 0:    # print every 10 mini-batches\n",
    "           print('Epoch [{}/{}], Step [{}/{}], Loss : {:.4f}'\n",
    "            .format(epoch + 1, num_epochs, i + 1, len(train_dl), running_loss/(i + 1)))\n",
    "    \n",
    "    # Print stats at the end of the epoch\n",
    "    num_batches = len(train_dl)\n",
    "    avg_loss = running_loss / num_batches\n",
    "    acc = correct_prediction/total_prediction\n",
    "    print(f'Epoch: {epoch + 1}, Loss: {avg_loss:.4f}, Accuracy: {acc:.4f}')\n",
    "\n",
    "    gt = []\n",
    "    pred = []\n",
    "\n",
    "    with torch.no_grad():\n",
    "        correct = 0\n",
    "        total = 0\n",
    "        val_loss = 0 \n",
    "        for idx, data_ in enumerate(val_dl):\n",
    "            inputs, labels = data_[0].to(device), data_[1].to(device)\n",
    "\n",
    "            # Normalize the inputs\n",
    "            inputs_m, inputs_s = inputs.mean(), inputs.std()\n",
    "            inputs = (inputs - inputs_m) / inputs_s\n",
    "\n",
    "            # forward + backward + optimize\n",
    "            outputs = model(inputs)\n",
    "            loss = criterion(outputs, labels)\n",
    "\n",
    "            # Keep stats for Loss and Accuracy\n",
    "            val_loss += loss.item()\n",
    "\n",
    "            # Get the predicted class with the highest score\n",
    "            _, prediction = torch.max(outputs,1)\n",
    "            predi = torch.softmax(outputs, dim = -1)\n",
    "            gt.append(labels)\n",
    "            pred.append(predi[:,1])\n",
    "            # Count of predictions that matched the target label\n",
    "            correct += (prediction == labels).sum().item()\n",
    "            total += prediction.shape[0]\n",
    "        print('Accuracy of the network val: {:.4f} %'.format(100 * correct / total))\n",
    "\n",
    "        final_score = 100 * correct / total\n",
    "\n",
    "\n",
    "        if (best_acc < final_score):\n",
    "            best_acc = final_score\n",
    "            print(\"Saving best model!\")\n",
    "            torch.save(model.state_dict(), f'Benetech _ResNet50_fold0.pth')\n",
    "\n",
    "  print('Finished Training')\n",
    "  \n",
    "num_epochs = 10   # Just for demo, adjust this higher.\n",
    "training(myModel, train_dl, val_dl, num_epochs)"
   ]
  },
  {
   "cell_type": "code",
   "execution_count": null,
   "id": "8f2cb9d7",
   "metadata": {
    "papermill": {
     "duration": 0.021997,
     "end_time": "2023-04-09T22:49:16.468762",
     "exception": false,
     "start_time": "2023-04-09T22:49:16.446765",
     "status": "completed"
    },
    "tags": []
   },
   "outputs": [],
   "source": []
  }
 ],
 "metadata": {
  "kernelspec": {
   "display_name": "Python 3 (ipykernel)",
   "language": "python",
   "name": "python3"
  },
  "language_info": {
   "codemirror_mode": {
    "name": "ipython",
    "version": 3
   },
   "file_extension": ".py",
   "mimetype": "text/x-python",
   "name": "python",
   "nbconvert_exporter": "python",
   "pygments_lexer": "ipython3",
   "version": "3.7.2"
  },
  "papermill": {
   "default_parameters": {},
   "duration": 14473.433585,
   "end_time": "2023-04-09T22:49:18.142209",
   "environment_variables": {},
   "exception": null,
   "input_path": "__notebook__.ipynb",
   "output_path": "__notebook__.ipynb",
   "parameters": {},
   "start_time": "2023-04-09T18:48:04.708624",
   "version": "2.4.0"
  }
 },
 "nbformat": 4,
 "nbformat_minor": 5
}
