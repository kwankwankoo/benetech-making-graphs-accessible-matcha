{
 "cells": [
  {
   "cell_type": "code",
   "execution_count": 1,
   "id": "01135542",
   "metadata": {
    "execution": {
     "iopub.execute_input": "2023-04-13T12:56:50.598870Z",
     "iopub.status.busy": "2023-04-13T12:56:50.598492Z",
     "iopub.status.idle": "2023-04-13T12:57:09.360454Z",
     "shell.execute_reply": "2023-04-13T12:57:09.359204Z"
    },
    "papermill": {
     "duration": 18.771289,
     "end_time": "2023-04-13T12:57:09.362869",
     "exception": false,
     "start_time": "2023-04-13T12:56:50.591580",
     "status": "completed"
    },
    "scrolled": true,
    "tags": []
   },
   "outputs": [
    {
     "name": "stdout",
     "output_type": "stream",
     "text": [
      "Found existing installation: transformers 4.27.4\r\n",
      "Uninstalling transformers-4.27.4:\r\n",
      "  Successfully uninstalled transformers-4.27.4\r\n",
      "\u001b[33mWARNING: Running pip as the 'root' user can result in broken permissions and conflicting behaviour with the system package manager. It is recommended to use a virtual environment instead: https://pip.pypa.io/warnings/venv\u001b[0m\u001b[33m\r\n",
      "\u001b[0mrunning develop\r\n",
      "/opt/conda/lib/python3.7/site-packages/setuptools/command/easy_install.py:159: EasyInstallDeprecationWarning: easy_install command is deprecated. Use build and pip and other standards-based tools.\r\n",
      "  EasyInstallDeprecationWarning,\r\n",
      "/opt/conda/lib/python3.7/site-packages/setuptools/command/install.py:37: SetuptoolsDeprecationWarning: setup.py install is deprecated. Use build and pip and other standards-based tools.\r\n",
      "  setuptools.SetuptoolsDeprecationWarning,\r\n",
      "running egg_info\r\n",
      "creating src/transformers.egg-info\r\n",
      "writing src/transformers.egg-info/PKG-INFO\r\n",
      "writing dependency_links to src/transformers.egg-info/dependency_links.txt\r\n",
      "writing entry points to src/transformers.egg-info/entry_points.txt\r\n",
      "writing requirements to src/transformers.egg-info/requires.txt\r\n",
      "writing top-level names to src/transformers.egg-info/top_level.txt\r\n",
      "writing manifest file 'src/transformers.egg-info/SOURCES.txt'\r\n",
      "reading manifest file 'src/transformers.egg-info/SOURCES.txt'\r\n",
      "reading manifest template 'MANIFEST.in'\r\n",
      "adding license file 'LICENSE'\r\n",
      "writing manifest file 'src/transformers.egg-info/SOURCES.txt'\r\n",
      "running build_ext\r\n",
      "Creating /opt/conda/lib/python3.7/site-packages/transformers.egg-link (link to src)\r\n",
      "Adding transformers 4.28.0.dev0 to easy-install.pth file\r\n",
      "Installing transformers-cli script to /opt/conda/bin\r\n",
      "\r\n",
      "Installed /kaggle/working/temp/transformers/src\r\n"
     ]
    }
   ],
   "source": [
    "# !pip install git+https://github.com/huggingface/transformers\n",
    "!pip uninstall -y transformers\n",
    "# !pip install --no-deps /kaggle/input/certifi/certifi-2022.12.7-py3-none-any.whl\n",
    "!mkdir temp && cp -r /kaggle/input/transformers-main-09082023 temp/transformers && cd temp/transformers && python setup.py develop --no-deps"
   ]
  },
  {
   "cell_type": "code",
   "execution_count": 2,
   "id": "407b19d1",
   "metadata": {
    "execution": {
     "iopub.execute_input": "2023-04-13T12:57:09.375057Z",
     "iopub.status.busy": "2023-04-13T12:57:09.374702Z",
     "iopub.status.idle": "2023-04-13T12:57:18.552197Z",
     "shell.execute_reply": "2023-04-13T12:57:18.550991Z"
    },
    "papermill": {
     "duration": 9.186665,
     "end_time": "2023-04-13T12:57:18.555207",
     "exception": false,
     "start_time": "2023-04-13T12:57:09.368542",
     "status": "completed"
    },
    "scrolled": true,
    "tags": []
   },
   "outputs": [
    {
     "name": "stdout",
     "output_type": "stream",
     "text": [
      "Name: transformers\r\n",
      "Version: 4.28.0.dev0\r\n",
      "Summary: State-of-the-art Machine Learning for JAX, PyTorch and TensorFlow\r\n",
      "Home-page: https://github.com/huggingface/transformers\r\n",
      "Author: The Hugging Face team (past and future) with the help of all our contributors (https://github.com/huggingface/transformers/graphs/contributors)\r\n",
      "Author-email: transformers@huggingface.co\r\n",
      "License: Apache 2.0 License\r\n",
      "Location: /kaggle/working/temp/transformers/src\r\n",
      "Requires: filelock, huggingface-hub, importlib_metadata, numpy, packaging, pyyaml, regex, requests, tokenizers, tqdm\r\n",
      "Required-by: \r\n"
     ]
    }
   ],
   "source": [
    "!pip show transformers"
   ]
  },
  {
   "cell_type": "code",
   "execution_count": 3,
   "id": "5c20d6c1",
   "metadata": {
    "execution": {
     "iopub.execute_input": "2023-04-13T12:57:18.569345Z",
     "iopub.status.busy": "2023-04-13T12:57:18.568906Z",
     "iopub.status.idle": "2023-04-13T12:57:18.574347Z",
     "shell.execute_reply": "2023-04-13T12:57:18.573197Z"
    },
    "papermill": {
     "duration": 0.015307,
     "end_time": "2023-04-13T12:57:18.576492",
     "exception": false,
     "start_time": "2023-04-13T12:57:18.561185",
     "status": "completed"
    },
    "tags": []
   },
   "outputs": [],
   "source": [
    "import sys\n",
    "sys.path.insert(0, \"/kaggle/working/temp/transformers/src/\")"
   ]
  },
  {
   "cell_type": "code",
   "execution_count": 4,
   "id": "9b8dc5bd",
   "metadata": {
    "execution": {
     "iopub.execute_input": "2023-04-13T12:57:18.588633Z",
     "iopub.status.busy": "2023-04-13T12:57:18.587830Z",
     "iopub.status.idle": "2023-04-13T12:57:23.720735Z",
     "shell.execute_reply": "2023-04-13T12:57:23.718405Z"
    },
    "papermill": {
     "duration": 5.142157,
     "end_time": "2023-04-13T12:57:23.723951",
     "exception": false,
     "start_time": "2023-04-13T12:57:18.581794",
     "status": "completed"
    },
    "tags": []
   },
   "outputs": [],
   "source": [
    "import pandas as pd\n",
    "import io\n",
    "import torch\n",
    "from transformers import Pix2StructForConditionalGeneration, Pix2StructProcessor\n",
    "import requests\n",
    "from PIL import Image\n",
    "import re"
   ]
  },
  {
   "cell_type": "markdown",
   "id": "50b1bd7f",
   "metadata": {
    "papermill": {
     "duration": 0.006405,
     "end_time": "2023-04-13T12:57:23.744443",
     "exception": false,
     "start_time": "2023-04-13T12:57:23.738038",
     "status": "completed"
    },
    "tags": []
   },
   "source": [
    "### Deplot model"
   ]
  },
  {
   "cell_type": "code",
   "execution_count": 5,
   "id": "355e88b4",
   "metadata": {
    "execution": {
     "iopub.execute_input": "2023-04-13T12:57:23.761404Z",
     "iopub.status.busy": "2023-04-13T12:57:23.760677Z",
     "iopub.status.idle": "2023-04-13T12:57:23.785252Z",
     "shell.execute_reply": "2023-04-13T12:57:23.783324Z"
    },
    "papermill": {
     "duration": 0.039138,
     "end_time": "2023-04-13T12:57:23.789367",
     "exception": false,
     "start_time": "2023-04-13T12:57:23.750229",
     "status": "completed"
    },
    "tags": []
   },
   "outputs": [],
   "source": [
    "def display_deplot_output(deplot_output, visualize=True):\n",
    "    '''\n",
    "    The raw output of deplot\n",
    "    TITLE | Rural population (%) long-run with 2050 projections<0x0A>(OWID) in Greece<0x0A>Years | Rural population<0x0A>1940 | 47.38<0x0A>1960 | 43.68<0x0A>1980 | 30.28<0x0A>...\n",
    "    '''\n",
    "\n",
    "    # x1,x2 <> y1 y2\n",
    "    # x1 | y1 <0x0A> x2 | y2 <0x0A>\n",
    "    # label xxxxyyy -> xyxyxyxy\n",
    "    deplot_output = deplot_output.replace(\"<0x0A>\", \"\\n\").replace(\" | \", \"\\t\")\n",
    "\n",
    "    second_a_index = [m.start() for m in re.finditer('\\t', deplot_output)][1]\n",
    "    last_newline_index = deplot_output.rfind('\\n', 0, second_a_index) \n",
    "\n",
    "    title = deplot_output[:last_newline_index]\n",
    "    table = deplot_output#[last_newline_index+1:]\n",
    "\n",
    "    data = io.StringIO(table)\n",
    "    df = pd.read_csv(data, sep='\\t', names=['x', 'y'])\n",
    "    if visualize:\n",
    "        display(df)\n",
    "    \n",
    "    return df\n",
    "    \n",
    "\n",
    "def deplot(path, model, processor, device, visualize=True):\n",
    "\n",
    "    image = Image.open(path)\n",
    "    if visualize:\n",
    "        display(image)\n",
    "    inputs = processor(images=image, text=\"Generate underlying data table of the figure below:\", return_tensors=\"pt\", is_vqa=False)\n",
    "\n",
    "    # Move inputs to GPU\n",
    "    inputs = {key: value.to(device) for key, value in inputs.items()}\n",
    "\n",
    "    predictions = model.generate(**inputs, max_new_tokens=512)\n",
    "    return processor.decode(predictions[0], skip_special_tokens=True)\n"
   ]
  },
  {
   "cell_type": "code",
   "execution_count": 6,
   "id": "de1a47f2",
   "metadata": {
    "execution": {
     "iopub.execute_input": "2023-04-13T12:57:23.818517Z",
     "iopub.status.busy": "2023-04-13T12:57:23.818215Z",
     "iopub.status.idle": "2023-04-13T12:57:44.697521Z",
     "shell.execute_reply": "2023-04-13T12:57:44.695904Z"
    },
    "papermill": {
     "duration": 20.902603,
     "end_time": "2023-04-13T12:57:44.702256",
     "exception": false,
     "start_time": "2023-04-13T12:57:23.799653",
     "status": "completed"
    },
    "tags": []
   },
   "outputs": [],
   "source": [
    "deplot_weights_path = '/kaggle/input/matcha-base/matcha-base'\n",
    "model- path = '你自己上传的模型权重。bin文件的路径'\n",
    "device = torch.device(\"cuda\" if torch.cuda.is_available() else \"cpu\")\n",
    "deplot_model = Pix2StructForConditionalGeneration.from_pretrained(deplot_weights_path).to(device)\n",
    "deplot_model.load_state_dict(torch.load(model- path))\n",
    "processor = Pix2StructProcessor.from_pretrained(deplot_weights_path)\n",
    "# processor.is_vqa = False"
   ]
  },
  {
   "cell_type": "code",
   "execution_count": 7,
   "id": "5357bd0c",
   "metadata": {
    "execution": {
     "iopub.execute_input": "2023-04-13T12:57:44.715689Z",
     "iopub.status.busy": "2023-04-13T12:57:44.715256Z",
     "iopub.status.idle": "2023-04-13T12:57:44.721035Z",
     "shell.execute_reply": "2023-04-13T12:57:44.719987Z"
    },
    "papermill": {
     "duration": 0.015181,
     "end_time": "2023-04-13T12:57:44.723201",
     "exception": false,
     "start_time": "2023-04-13T12:57:44.708020",
     "status": "completed"
    },
    "tags": []
   },
   "outputs": [],
   "source": [
    "def deplot_inference(image_path, visualize):\n",
    "    deplot_output=deplot(image_path, deplot_model, processor, device, visualize)\n",
    "    return display_deplot_output(deplot_output, visualize)"
   ]
  },
  {
   "cell_type": "code",
   "execution_count": 8,
   "id": "8f2da221",
   "metadata": {
    "execution": {
     "iopub.execute_input": "2023-04-13T12:57:44.737082Z",
     "iopub.status.busy": "2023-04-13T12:57:44.735399Z",
     "iopub.status.idle": "2023-04-13T12:57:44.740510Z",
     "shell.execute_reply": "2023-04-13T12:57:44.739548Z"
    },
    "papermill": {
     "duration": 0.014418,
     "end_time": "2023-04-13T12:57:44.742628",
     "exception": false,
     "start_time": "2023-04-13T12:57:44.728210",
     "status": "completed"
    },
    "tags": []
   },
   "outputs": [],
   "source": [
    "# deplot_inference(\"/kaggle/input/benetech-making-graphs-accessible/test/images/00dcf883a459.jpg\", visualize=True)"
   ]
  },
  {
   "cell_type": "markdown",
   "id": "2c523ee0",
   "metadata": {
    "papermill": {
     "duration": 0.004729,
     "end_time": "2023-04-13T12:57:44.752225",
     "exception": false,
     "start_time": "2023-04-13T12:57:44.747496",
     "status": "completed"
    },
    "tags": []
   },
   "source": [
    "### Classification model"
   ]
  },
  {
   "cell_type": "code",
   "execution_count": 9,
   "id": "d2f0df78",
   "metadata": {
    "execution": {
     "iopub.execute_input": "2023-04-13T12:57:44.763708Z",
     "iopub.status.busy": "2023-04-13T12:57:44.762871Z",
     "iopub.status.idle": "2023-04-13T12:57:45.107991Z",
     "shell.execute_reply": "2023-04-13T12:57:45.106956Z"
    },
    "papermill": {
     "duration": 0.353479,
     "end_time": "2023-04-13T12:57:45.110653",
     "exception": false,
     "start_time": "2023-04-13T12:57:44.757174",
     "status": "completed"
    },
    "tags": []
   },
   "outputs": [],
   "source": [
    "import torch\n",
    "import torchvision\n",
    "import torch.utils.data\n",
    "from torchvision import transforms\n",
    "import torch.nn as nn\n",
    "import torch.nn.functional as F\n",
    "import torch.optim as optim\n",
    "from torch.optim import lr_scheduler\n",
    "\n",
    "import cv2\n",
    "import numpy as np"
   ]
  },
  {
   "cell_type": "code",
   "execution_count": 10,
   "id": "3c9fcd9d",
   "metadata": {
    "execution": {
     "iopub.execute_input": "2023-04-13T12:57:45.124045Z",
     "iopub.status.busy": "2023-04-13T12:57:45.122507Z",
     "iopub.status.idle": "2023-04-13T12:57:45.128948Z",
     "shell.execute_reply": "2023-04-13T12:57:45.127958Z"
    },
    "papermill": {
     "duration": 0.015022,
     "end_time": "2023-04-13T12:57:45.131305",
     "exception": false,
     "start_time": "2023-04-13T12:57:45.116283",
     "status": "completed"
    },
    "tags": []
   },
   "outputs": [],
   "source": [
    "label_map = {'dot': 0, 'horizontal_bar' : 1, 'vertical_bar': 2, 'line': 3, 'scatter': 4}\n",
    "label_idx_to_classname = {v: k for k, v in label_map.items()}\n"
   ]
  },
  {
   "cell_type": "code",
   "execution_count": 11,
   "id": "f31cc15f",
   "metadata": {
    "execution": {
     "iopub.execute_input": "2023-04-13T12:57:45.142393Z",
     "iopub.status.busy": "2023-04-13T12:57:45.142122Z",
     "iopub.status.idle": "2023-04-13T12:57:48.737251Z",
     "shell.execute_reply": "2023-04-13T12:57:48.736259Z"
    },
    "papermill": {
     "duration": 3.603302,
     "end_time": "2023-04-13T12:57:48.739471",
     "exception": false,
     "start_time": "2023-04-13T12:57:45.136169",
     "status": "completed"
    },
    "scrolled": true,
    "tags": []
   },
   "outputs": [
    {
     "name": "stderr",
     "output_type": "stream",
     "text": [
      "/opt/conda/lib/python3.7/site-packages/torchvision/models/_utils.py:209: UserWarning: The parameter 'pretrained' is deprecated since 0.13 and may be removed in the future, please use 'weights' instead.\n",
      "  f\"The parameter '{pretrained_param}' is deprecated since 0.13 and may be removed in the future, \"\n",
      "/opt/conda/lib/python3.7/site-packages/torchvision/models/_utils.py:223: UserWarning: Arguments other than a weight enum or `None` for 'weights' are deprecated since 0.13 and may be removed in the future. The current behavior is equivalent to passing `weights=None`.\n",
      "  warnings.warn(msg)\n"
     ]
    },
    {
     "data": {
      "text/plain": [
       "<All keys matched successfully>"
      ]
     },
     "execution_count": 11,
     "metadata": {},
     "output_type": "execute_result"
    }
   ],
   "source": [
    "classification_model = torchvision.models.resnet50(pretrained=False)\n",
    "\n",
    "num_features = classification_model.fc.in_features\n",
    "classification_model.fc = nn.Linear(num_features, 5)\n",
    "device = torch.device(\"cuda:2\" if torch.cuda.is_available() else \"cpu\")\n",
    "classification_model = classification_model.to(device)\n",
    "classification_model.eval()\n",
    "\n",
    "state_dict = torch.load(\"/kaggle/input/deplot/Benetech _ResNet50_fold0.pth\")\n",
    "classification_model.load_state_dict(state_dict)"
   ]
  },
  {
   "cell_type": "code",
   "execution_count": 12,
   "id": "1f992517",
   "metadata": {
    "execution": {
     "iopub.execute_input": "2023-04-13T12:57:48.751262Z",
     "iopub.status.busy": "2023-04-13T12:57:48.750943Z",
     "iopub.status.idle": "2023-04-13T12:57:48.757799Z",
     "shell.execute_reply": "2023-04-13T12:57:48.756751Z"
    },
    "papermill": {
     "duration": 0.015207,
     "end_time": "2023-04-13T12:57:48.759987",
     "exception": false,
     "start_time": "2023-04-13T12:57:48.744780",
     "status": "completed"
    },
    "tags": []
   },
   "outputs": [],
   "source": [
    "val_transforms = transforms.Compose(\n",
    "    [transforms.ToTensor(),\n",
    "     transforms.Normalize((0.5, 0.5, 0.5), (0.5, 0.5, 0.5))])\n",
    "\n",
    "def classification_inference(image_path):\n",
    "    img = cv2.imread(image_path)\n",
    "    img = cv2.cvtColor(img,cv2.COLOR_BGR2RGB)\n",
    "    img = cv2.resize(img,(500,300))\n",
    "    img = img.astype(np.float32)/255.0\n",
    "    img = val_transforms(img)\n",
    "    \n",
    "#     print(img.shape)\n",
    "    \n",
    "#     inp = torch.stack([img.permute(1, 2, 0)]).cuda()\n",
    "    inp = torch.stack([img]).cuda()\n",
    "    out = classification_model(inp).detach().cpu().numpy()\n",
    "    return label_idx_to_classname[np.argmax(out)]"
   ]
  },
  {
   "cell_type": "markdown",
   "id": "b95321df",
   "metadata": {
    "papermill": {
     "duration": 0.004843,
     "end_time": "2023-04-13T12:57:48.769867",
     "exception": false,
     "start_time": "2023-04-13T12:57:48.765024",
     "status": "completed"
    },
    "tags": []
   },
   "source": [
    "### Inference pipeline"
   ]
  },
  {
   "cell_type": "code",
   "execution_count": 13,
   "id": "75f07538",
   "metadata": {
    "execution": {
     "iopub.execute_input": "2023-04-13T12:57:48.781480Z",
     "iopub.status.busy": "2023-04-13T12:57:48.781218Z",
     "iopub.status.idle": "2023-04-13T12:58:09.476119Z",
     "shell.execute_reply": "2023-04-13T12:58:09.474666Z"
    },
    "papermill": {
     "duration": 20.70334,
     "end_time": "2023-04-13T12:58:09.478362",
     "exception": false,
     "start_time": "2023-04-13T12:57:48.775022",
     "status": "completed"
    },
    "tags": []
   },
   "outputs": [
    {
     "name": "stderr",
     "output_type": "stream",
     "text": [
      "  0%|          | 0/5 [00:00<?, ?it/s]A decoder-only architecture is being used, but right-padding was detected! For correct generation results, please set `padding_side='left'` when initializing the tokenizer.\n",
      " 20%|██        | 1/5 [00:06<00:25,  6.39s/it]A decoder-only architecture is being used, but right-padding was detected! For correct generation results, please set `padding_side='left'` when initializing the tokenizer.\n",
      " 40%|████      | 2/5 [00:14<00:21,  7.18s/it]A decoder-only architecture is being used, but right-padding was detected! For correct generation results, please set `padding_side='left'` when initializing the tokenizer.\n",
      " 60%|██████    | 3/5 [00:16<00:09,  4.93s/it]A decoder-only architecture is being used, but right-padding was detected! For correct generation results, please set `padding_side='left'` when initializing the tokenizer.\n",
      " 80%|████████  | 4/5 [00:17<00:03,  3.41s/it]A decoder-only architecture is being used, but right-padding was detected! For correct generation results, please set `padding_side='left'` when initializing the tokenizer.\n",
      "100%|██████████| 5/5 [00:20<00:00,  4.13s/it]\n"
     ]
    }
   ],
   "source": [
    "import os\n",
    "from tqdm import tqdm\n",
    "import math\n",
    "\n",
    "IMAGE_FOLDER = \"/kaggle/input/benetech-making-graphs-accessible/test/images\"\n",
    "\n",
    "all_ids = []\n",
    "all_values = []\n",
    "all_chart_types = []\n",
    "\n",
    "for image_name in tqdm(os.listdir(IMAGE_FOLDER)):\n",
    "    if \".jpg\" not in image_name:\n",
    "        continue\n",
    "    try:\n",
    "        image_path = os.path.join(IMAGE_FOLDER, image_name)\n",
    "\n",
    "        graph_type = classification_inference(image_path)\n",
    "        inference_df = deplot_inference(image_path, False)\n",
    "        \n",
    "        x_values = inference_df[inference_df.columns[0]].values\n",
    "        y_values = inference_df[inference_df.columns[1]].values\n",
    "        \n",
    "        # check value type for each graph type\n",
    "        if graph_type in [\"horizontal_bar\", \"vertical_bar\", \"line\", \"dot\", \"scatter\"]:\n",
    "            # x is categorical, y is numerical\n",
    "            formatted_y_values = []\n",
    "            for v in y_values:\n",
    "                try:\n",
    "                    float(v)\n",
    "                    if math.isnan(float(v)):\n",
    "                        formatted_y_values.append(0)\n",
    "                    else:\n",
    "                        formatted_y_values.append(v)\n",
    "                except:\n",
    "                    formatted_y_values.append(0)\n",
    "                    \n",
    "            y_values = formatted_y_values\n",
    "        \n",
    "        if graph_type in [\"dot\", \"scatter\"]:\n",
    "            # for dot graph, x could be categorical as well as numerical, how to handle this?\n",
    "            # just leave all the value be numerical for now\n",
    "\n",
    "            formatted_x_values = []\n",
    "            for v in x_values:\n",
    "                try:\n",
    "                    float(v)\n",
    "                    if math.isnan(float(v)):\n",
    "                        formatted_x_values.append(0)\n",
    "                    else:\n",
    "                        formatted_x_values.append(v)\n",
    "                except:\n",
    "                    formatted_x_values.append(0)\n",
    "                    \n",
    "            x_values = formatted_x_values\n",
    "            \n",
    "        \n",
    "        length = min(len(x_values), len(y_values))\n",
    "        x_values = \";\".join([str(v).strip() for v in x_values][:length])\n",
    "        y_values = \";\".join([str(v).strip() for v in y_values][:length])\n",
    "    except Exception as e:\n",
    "        print(\"Exception\", e)\n",
    "        graph_type = \"line\"\n",
    "        x_values = \"0;0\"\n",
    "        y_values = \"0;0\"\n",
    "    \n",
    "    image_id = image_name.split(\".\")[0]\n",
    "\n",
    "    all_ids.append(image_id + \"_x\")\n",
    "    all_values.append(x_values)\n",
    "    \n",
    "    all_ids.append(image_id + \"_y\")\n",
    "    all_values.append(y_values)\n",
    "    \n",
    "    all_chart_types.extend([graph_type, graph_type])"
   ]
  },
  {
   "cell_type": "code",
   "execution_count": 14,
   "id": "1dd15a02",
   "metadata": {
    "execution": {
     "iopub.execute_input": "2023-04-13T12:58:09.491782Z",
     "iopub.status.busy": "2023-04-13T12:58:09.491489Z",
     "iopub.status.idle": "2023-04-13T12:58:10.613439Z",
     "shell.execute_reply": "2023-04-13T12:58:10.611873Z"
    },
    "papermill": {
     "duration": 1.131893,
     "end_time": "2023-04-13T12:58:10.616260",
     "exception": false,
     "start_time": "2023-04-13T12:58:09.484367",
     "status": "completed"
    },
    "tags": []
   },
   "outputs": [],
   "source": [
    "!rm -rf temp"
   ]
  },
  {
   "cell_type": "code",
   "execution_count": 15,
   "id": "a6b8f705",
   "metadata": {
    "_cell_guid": "b1076dfc-b9ad-4769-8c92-a6c4dae69d19",
    "_uuid": "8f2839f25d086af736a60e9eeb907d3b93b6e0e5",
    "execution": {
     "iopub.execute_input": "2023-04-13T12:58:10.630353Z",
     "iopub.status.busy": "2023-04-13T12:58:10.630015Z",
     "iopub.status.idle": "2023-04-13T12:58:10.650333Z",
     "shell.execute_reply": "2023-04-13T12:58:10.649194Z"
    },
    "papermill": {
     "duration": 0.030025,
     "end_time": "2023-04-13T12:58:10.652818",
     "exception": false,
     "start_time": "2023-04-13T12:58:10.622793",
     "status": "completed"
    },
    "tags": []
   },
   "outputs": [
    {
     "data": {
      "text/html": [
       "<div>\n",
       "<style scoped>\n",
       "    .dataframe tbody tr th:only-of-type {\n",
       "        vertical-align: middle;\n",
       "    }\n",
       "\n",
       "    .dataframe tbody tr th {\n",
       "        vertical-align: top;\n",
       "    }\n",
       "\n",
       "    .dataframe thead th {\n",
       "        text-align: right;\n",
       "    }\n",
       "</style>\n",
       "<table border=\"1\" class=\"dataframe\">\n",
       "  <thead>\n",
       "    <tr style=\"text-align: right;\">\n",
       "      <th></th>\n",
       "      <th>id</th>\n",
       "      <th>data_series</th>\n",
       "      <th>chart_type</th>\n",
       "    </tr>\n",
       "  </thead>\n",
       "  <tbody>\n",
       "    <tr>\n",
       "      <th>0</th>\n",
       "      <td>000b92c3b098_x</td>\n",
       "      <td>0;6;12;18;24</td>\n",
       "      <td>line</td>\n",
       "    </tr>\n",
       "    <tr>\n",
       "      <th>1</th>\n",
       "      <td>000b92c3b098_y</td>\n",
       "      <td>0.0;1.32;2.62;1.94;3.24</td>\n",
       "      <td>line</td>\n",
       "    </tr>\n",
       "    <tr>\n",
       "      <th>2</th>\n",
       "      <td>01b45b831589_x</td>\n",
       "      <td>21-Feb;22-Feb;23-Feb;24-Feb;25-Feb;26-Feb;27-F...</td>\n",
       "      <td>vertical_bar</td>\n",
       "    </tr>\n",
       "    <tr>\n",
       "      <th>3</th>\n",
       "      <td>01b45b831589_y</td>\n",
       "      <td>89000;151000;172000;177000;137000;99000;0;4150...</td>\n",
       "      <td>vertical_bar</td>\n",
       "    </tr>\n",
       "    <tr>\n",
       "      <th>4</th>\n",
       "      <td>00f5404753cf_x</td>\n",
       "      <td>3;4;5;6;7;8;9;10;11</td>\n",
       "      <td>line</td>\n",
       "    </tr>\n",
       "    <tr>\n",
       "      <th>5</th>\n",
       "      <td>00f5404753cf_y</td>\n",
       "      <td>14.0;13.8;22.0;26.0;25.9;27.0;22.0;13.6;13.0</td>\n",
       "      <td>line</td>\n",
       "    </tr>\n",
       "    <tr>\n",
       "      <th>6</th>\n",
       "      <td>00dcf883a459_x</td>\n",
       "      <td>Group 1;Group 2</td>\n",
       "      <td>vertical_bar</td>\n",
       "    </tr>\n",
       "    <tr>\n",
       "      <th>7</th>\n",
       "      <td>00dcf883a459_y</td>\n",
       "      <td>3.6;8.4</td>\n",
       "      <td>vertical_bar</td>\n",
       "    </tr>\n",
       "    <tr>\n",
       "      <th>8</th>\n",
       "      <td>007a18eb4e09_x</td>\n",
       "      <td>2013;2014;2015;2016;2017;2018;2019;2020;2021;2...</td>\n",
       "      <td>line</td>\n",
       "    </tr>\n",
       "    <tr>\n",
       "      <th>9</th>\n",
       "      <td>007a18eb4e09_y</td>\n",
       "      <td>0.0;0.0;0.0;0.0;0.0;0.0;0.0;0.0;0.0;0.0;0.0</td>\n",
       "      <td>line</td>\n",
       "    </tr>\n",
       "  </tbody>\n",
       "</table>\n",
       "</div>"
      ],
      "text/plain": [
       "               id                                        data_series  \\\n",
       "0  000b92c3b098_x                                       0;6;12;18;24   \n",
       "1  000b92c3b098_y                            0.0;1.32;2.62;1.94;3.24   \n",
       "2  01b45b831589_x  21-Feb;22-Feb;23-Feb;24-Feb;25-Feb;26-Feb;27-F...   \n",
       "3  01b45b831589_y  89000;151000;172000;177000;137000;99000;0;4150...   \n",
       "4  00f5404753cf_x                                3;4;5;6;7;8;9;10;11   \n",
       "5  00f5404753cf_y       14.0;13.8;22.0;26.0;25.9;27.0;22.0;13.6;13.0   \n",
       "6  00dcf883a459_x                                    Group 1;Group 2   \n",
       "7  00dcf883a459_y                                            3.6;8.4   \n",
       "8  007a18eb4e09_x  2013;2014;2015;2016;2017;2018;2019;2020;2021;2...   \n",
       "9  007a18eb4e09_y        0.0;0.0;0.0;0.0;0.0;0.0;0.0;0.0;0.0;0.0;0.0   \n",
       "\n",
       "     chart_type  \n",
       "0          line  \n",
       "1          line  \n",
       "2  vertical_bar  \n",
       "3  vertical_bar  \n",
       "4          line  \n",
       "5          line  \n",
       "6  vertical_bar  \n",
       "7  vertical_bar  \n",
       "8          line  \n",
       "9          line  "
      ]
     },
     "execution_count": 15,
     "metadata": {},
     "output_type": "execute_result"
    }
   ],
   "source": [
    "submission_df = pd.DataFrame({\n",
    "    \"id\": all_ids,\n",
    "    \"data_series\": all_values,\n",
    "    \"chart_type\": all_chart_types\n",
    "})\n",
    "\n",
    "submission_df.to_csv(\"submission.csv\", index=False)\n",
    "submission_df"
   ]
  }
 ],
 "metadata": {
  "kernelspec": {
   "display_name": "Python 3 (ipykernel)",
   "language": "python",
   "name": "python3"
  },
  "language_info": {
   "codemirror_mode": {
    "name": "ipython",
    "version": 3
   },
   "file_extension": ".py",
   "mimetype": "text/x-python",
   "name": "python",
   "nbconvert_exporter": "python",
   "pygments_lexer": "ipython3",
   "version": "3.7.2"
  },
  "papermill": {
   "default_parameters": {},
   "duration": 92.766001,
   "end_time": "2023-04-13T12:58:14.054408",
   "environment_variables": {},
   "exception": null,
   "input_path": "__notebook__.ipynb",
   "output_path": "__notebook__.ipynb",
   "parameters": {},
   "start_time": "2023-04-13T12:56:41.288407",
   "version": "2.4.0"
  }
 },
 "nbformat": 4,
 "nbformat_minor": 5
}
